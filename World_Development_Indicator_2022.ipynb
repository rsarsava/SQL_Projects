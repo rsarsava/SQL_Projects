{
 "cells": [
  {
   "cell_type": "code",
   "execution_count": 1,
   "id": "initial_id",
   "metadata": {
    "collapsed": true,
    "ExecuteTime": {
     "end_time": "2023-09-08T17:39:42.498212100Z",
     "start_time": "2023-09-08T17:39:42.471259300Z"
    }
   },
   "outputs": [],
   "source": [
    "import numpy as np\n",
    "import pandas as pd\n",
    "\n",
    "import matplotlib.pyplot as plt\n",
    "import seaborn as sns\n",
    "%matplotlib inline\n",
    "\n",
    "import sqlite3"
   ]
  },
  {
   "cell_type": "code",
   "execution_count": 2,
   "outputs": [],
   "source": [
    "conn = sqlite3.connect('C:\\Work\\SQL_Projects\\indicators.sqlite')"
   ],
   "metadata": {
    "collapsed": false,
    "ExecuteTime": {
     "end_time": "2023-09-08T17:39:42.517155600Z",
     "start_time": "2023-09-08T17:39:42.502157700Z"
    }
   },
   "id": "a80bf3b4f6963129"
  },
  {
   "cell_type": "code",
   "execution_count": 3,
   "outputs": [
    {
     "data": {
      "text/plain": "    type          name      tbl_name  rootpage  \\\n0  table       Country       Country         2   \n1  table  CountryNotes  CountryNotes       186   \n2  table        Series        Series       948   \n3  table    Indicators    Indicators      4448   \n4  table   SeriesNotes   SeriesNotes   1317550   \n5  table     Footnotes     Footnotes   1317587   \n\n                                                 sql  \n0  CREATE TABLE Country (\\n    CountryCode TEXT,\\...  \n1  CREATE TABLE CountryNotes (\\n    Countrycode T...  \n2  CREATE TABLE Series (\\n    SeriesCode TEXT,\\n ...  \n3  CREATE TABLE Indicators (\\n    CountryName TEX...  \n4  CREATE TABLE SeriesNotes (\\n    Seriescode TEX...  \n5  CREATE TABLE Footnotes (\\n    Countrycode TEXT...  ",
      "text/html": "<div>\n<style scoped>\n    .dataframe tbody tr th:only-of-type {\n        vertical-align: middle;\n    }\n\n    .dataframe tbody tr th {\n        vertical-align: top;\n    }\n\n    .dataframe thead th {\n        text-align: right;\n    }\n</style>\n<table border=\"1\" class=\"dataframe\">\n  <thead>\n    <tr style=\"text-align: right;\">\n      <th></th>\n      <th>type</th>\n      <th>name</th>\n      <th>tbl_name</th>\n      <th>rootpage</th>\n      <th>sql</th>\n    </tr>\n  </thead>\n  <tbody>\n    <tr>\n      <th>0</th>\n      <td>table</td>\n      <td>Country</td>\n      <td>Country</td>\n      <td>2</td>\n      <td>CREATE TABLE Country (\\n    CountryCode TEXT,\\...</td>\n    </tr>\n    <tr>\n      <th>1</th>\n      <td>table</td>\n      <td>CountryNotes</td>\n      <td>CountryNotes</td>\n      <td>186</td>\n      <td>CREATE TABLE CountryNotes (\\n    Countrycode T...</td>\n    </tr>\n    <tr>\n      <th>2</th>\n      <td>table</td>\n      <td>Series</td>\n      <td>Series</td>\n      <td>948</td>\n      <td>CREATE TABLE Series (\\n    SeriesCode TEXT,\\n ...</td>\n    </tr>\n    <tr>\n      <th>3</th>\n      <td>table</td>\n      <td>Indicators</td>\n      <td>Indicators</td>\n      <td>4448</td>\n      <td>CREATE TABLE Indicators (\\n    CountryName TEX...</td>\n    </tr>\n    <tr>\n      <th>4</th>\n      <td>table</td>\n      <td>SeriesNotes</td>\n      <td>SeriesNotes</td>\n      <td>1317550</td>\n      <td>CREATE TABLE SeriesNotes (\\n    Seriescode TEX...</td>\n    </tr>\n    <tr>\n      <th>5</th>\n      <td>table</td>\n      <td>Footnotes</td>\n      <td>Footnotes</td>\n      <td>1317587</td>\n      <td>CREATE TABLE Footnotes (\\n    Countrycode TEXT...</td>\n    </tr>\n  </tbody>\n</table>\n</div>"
     },
     "execution_count": 3,
     "metadata": {},
     "output_type": "execute_result"
    }
   ],
   "source": [
    "pd.read_sql(\"\"\" SELECT *\n",
    "                FROM sqlite_master\n",
    "                WHERE type='table';\"\"\",\n",
    "           conn)"
   ],
   "metadata": {
    "collapsed": false,
    "ExecuteTime": {
     "end_time": "2023-09-08T17:39:42.555166Z",
     "start_time": "2023-09-08T17:39:42.518156600Z"
    }
   },
   "id": "309c9f226b8b9ab2"
  },
  {
   "cell_type": "code",
   "execution_count": 4,
   "outputs": [
    {
     "data": {
      "text/plain": "   CountryName CountryCode                                      IndicatorName  \\\n0   Arab World         ARB  Adolescent fertility rate (births per 1,000 wo...   \n1   Arab World         ARB  Age dependency ratio (% of working-age populat...   \n2   Arab World         ARB  Age dependency ratio, old (% of working-age po...   \n3   Arab World         ARB  Age dependency ratio, young (% of working-age ...   \n4   Arab World         ARB        Arms exports (SIPRI trend indicator values)   \n5   Arab World         ARB        Arms imports (SIPRI trend indicator values)   \n6   Arab World         ARB               Birth rate, crude (per 1,000 people)   \n7   Arab World         ARB                                 CO2 emissions (kt)   \n8   Arab World         ARB             CO2 emissions (metric tons per capita)   \n9   Arab World         ARB  CO2 emissions from gaseous fuel consumption (%...   \n10  Arab World         ARB  CO2 emissions from liquid fuel consumption (% ...   \n11  Arab World         ARB    CO2 emissions from liquid fuel consumption (kt)   \n12  Arab World         ARB  CO2 emissions from solid fuel consumption (% o...   \n13  Arab World         ARB               Death rate, crude (per 1,000 people)   \n14  Arab World         ARB           Fertility rate, total (births per woman)   \n15  Arab World         ARB                      Fixed telephone subscriptions   \n16  Arab World         ARB     Fixed telephone subscriptions (per 100 people)   \n17  Arab World         ARB                   Hospital beds (per 1,000 people)   \n18  Arab World         ARB      International migrant stock (% of population)   \n19  Arab World         ARB                 International migrant stock, total   \n\n        IndicatorCode  Year         Value  \n0         SP.ADO.TFRT  1960  1.335609e+02  \n1         SP.POP.DPND  1960  8.779760e+01  \n2      SP.POP.DPND.OL  1960  6.634579e+00  \n3      SP.POP.DPND.YG  1960  8.102333e+01  \n4      MS.MIL.XPRT.KD  1960  3.000000e+06  \n5      MS.MIL.MPRT.KD  1960  5.380000e+08  \n6      SP.DYN.CBRT.IN  1960  4.769789e+01  \n7      EN.ATM.CO2E.KT  1960  5.956399e+04  \n8      EN.ATM.CO2E.PC  1960  6.439635e-01  \n9   EN.ATM.CO2E.GF.ZS  1960  5.041292e+00  \n10  EN.ATM.CO2E.LF.ZS  1960  8.485147e+01  \n11  EN.ATM.CO2E.LF.KT  1960  4.954171e+04  \n12  EN.ATM.CO2E.SF.ZS  1960  4.726981e+00  \n13     SP.DYN.CDRT.IN  1960  1.975445e+01  \n14     SP.DYN.TFRT.IN  1960  6.924027e+00  \n15        IT.MLT.MAIN  1960  4.068330e+05  \n16     IT.MLT.MAIN.P2  1960  6.167006e-01  \n17     SH.MED.BEDS.ZS  1960  1.929622e+00  \n18     SM.POP.TOTL.ZS  1960  2.990637e+00  \n19        SM.POP.TOTL  1960  3.324685e+06  ",
      "text/html": "<div>\n<style scoped>\n    .dataframe tbody tr th:only-of-type {\n        vertical-align: middle;\n    }\n\n    .dataframe tbody tr th {\n        vertical-align: top;\n    }\n\n    .dataframe thead th {\n        text-align: right;\n    }\n</style>\n<table border=\"1\" class=\"dataframe\">\n  <thead>\n    <tr style=\"text-align: right;\">\n      <th></th>\n      <th>CountryName</th>\n      <th>CountryCode</th>\n      <th>IndicatorName</th>\n      <th>IndicatorCode</th>\n      <th>Year</th>\n      <th>Value</th>\n    </tr>\n  </thead>\n  <tbody>\n    <tr>\n      <th>0</th>\n      <td>Arab World</td>\n      <td>ARB</td>\n      <td>Adolescent fertility rate (births per 1,000 wo...</td>\n      <td>SP.ADO.TFRT</td>\n      <td>1960</td>\n      <td>1.335609e+02</td>\n    </tr>\n    <tr>\n      <th>1</th>\n      <td>Arab World</td>\n      <td>ARB</td>\n      <td>Age dependency ratio (% of working-age populat...</td>\n      <td>SP.POP.DPND</td>\n      <td>1960</td>\n      <td>8.779760e+01</td>\n    </tr>\n    <tr>\n      <th>2</th>\n      <td>Arab World</td>\n      <td>ARB</td>\n      <td>Age dependency ratio, old (% of working-age po...</td>\n      <td>SP.POP.DPND.OL</td>\n      <td>1960</td>\n      <td>6.634579e+00</td>\n    </tr>\n    <tr>\n      <th>3</th>\n      <td>Arab World</td>\n      <td>ARB</td>\n      <td>Age dependency ratio, young (% of working-age ...</td>\n      <td>SP.POP.DPND.YG</td>\n      <td>1960</td>\n      <td>8.102333e+01</td>\n    </tr>\n    <tr>\n      <th>4</th>\n      <td>Arab World</td>\n      <td>ARB</td>\n      <td>Arms exports (SIPRI trend indicator values)</td>\n      <td>MS.MIL.XPRT.KD</td>\n      <td>1960</td>\n      <td>3.000000e+06</td>\n    </tr>\n    <tr>\n      <th>5</th>\n      <td>Arab World</td>\n      <td>ARB</td>\n      <td>Arms imports (SIPRI trend indicator values)</td>\n      <td>MS.MIL.MPRT.KD</td>\n      <td>1960</td>\n      <td>5.380000e+08</td>\n    </tr>\n    <tr>\n      <th>6</th>\n      <td>Arab World</td>\n      <td>ARB</td>\n      <td>Birth rate, crude (per 1,000 people)</td>\n      <td>SP.DYN.CBRT.IN</td>\n      <td>1960</td>\n      <td>4.769789e+01</td>\n    </tr>\n    <tr>\n      <th>7</th>\n      <td>Arab World</td>\n      <td>ARB</td>\n      <td>CO2 emissions (kt)</td>\n      <td>EN.ATM.CO2E.KT</td>\n      <td>1960</td>\n      <td>5.956399e+04</td>\n    </tr>\n    <tr>\n      <th>8</th>\n      <td>Arab World</td>\n      <td>ARB</td>\n      <td>CO2 emissions (metric tons per capita)</td>\n      <td>EN.ATM.CO2E.PC</td>\n      <td>1960</td>\n      <td>6.439635e-01</td>\n    </tr>\n    <tr>\n      <th>9</th>\n      <td>Arab World</td>\n      <td>ARB</td>\n      <td>CO2 emissions from gaseous fuel consumption (%...</td>\n      <td>EN.ATM.CO2E.GF.ZS</td>\n      <td>1960</td>\n      <td>5.041292e+00</td>\n    </tr>\n    <tr>\n      <th>10</th>\n      <td>Arab World</td>\n      <td>ARB</td>\n      <td>CO2 emissions from liquid fuel consumption (% ...</td>\n      <td>EN.ATM.CO2E.LF.ZS</td>\n      <td>1960</td>\n      <td>8.485147e+01</td>\n    </tr>\n    <tr>\n      <th>11</th>\n      <td>Arab World</td>\n      <td>ARB</td>\n      <td>CO2 emissions from liquid fuel consumption (kt)</td>\n      <td>EN.ATM.CO2E.LF.KT</td>\n      <td>1960</td>\n      <td>4.954171e+04</td>\n    </tr>\n    <tr>\n      <th>12</th>\n      <td>Arab World</td>\n      <td>ARB</td>\n      <td>CO2 emissions from solid fuel consumption (% o...</td>\n      <td>EN.ATM.CO2E.SF.ZS</td>\n      <td>1960</td>\n      <td>4.726981e+00</td>\n    </tr>\n    <tr>\n      <th>13</th>\n      <td>Arab World</td>\n      <td>ARB</td>\n      <td>Death rate, crude (per 1,000 people)</td>\n      <td>SP.DYN.CDRT.IN</td>\n      <td>1960</td>\n      <td>1.975445e+01</td>\n    </tr>\n    <tr>\n      <th>14</th>\n      <td>Arab World</td>\n      <td>ARB</td>\n      <td>Fertility rate, total (births per woman)</td>\n      <td>SP.DYN.TFRT.IN</td>\n      <td>1960</td>\n      <td>6.924027e+00</td>\n    </tr>\n    <tr>\n      <th>15</th>\n      <td>Arab World</td>\n      <td>ARB</td>\n      <td>Fixed telephone subscriptions</td>\n      <td>IT.MLT.MAIN</td>\n      <td>1960</td>\n      <td>4.068330e+05</td>\n    </tr>\n    <tr>\n      <th>16</th>\n      <td>Arab World</td>\n      <td>ARB</td>\n      <td>Fixed telephone subscriptions (per 100 people)</td>\n      <td>IT.MLT.MAIN.P2</td>\n      <td>1960</td>\n      <td>6.167006e-01</td>\n    </tr>\n    <tr>\n      <th>17</th>\n      <td>Arab World</td>\n      <td>ARB</td>\n      <td>Hospital beds (per 1,000 people)</td>\n      <td>SH.MED.BEDS.ZS</td>\n      <td>1960</td>\n      <td>1.929622e+00</td>\n    </tr>\n    <tr>\n      <th>18</th>\n      <td>Arab World</td>\n      <td>ARB</td>\n      <td>International migrant stock (% of population)</td>\n      <td>SM.POP.TOTL.ZS</td>\n      <td>1960</td>\n      <td>2.990637e+00</td>\n    </tr>\n    <tr>\n      <th>19</th>\n      <td>Arab World</td>\n      <td>ARB</td>\n      <td>International migrant stock, total</td>\n      <td>SM.POP.TOTL</td>\n      <td>1960</td>\n      <td>3.324685e+06</td>\n    </tr>\n  </tbody>\n</table>\n</div>"
     },
     "execution_count": 4,
     "metadata": {},
     "output_type": "execute_result"
    }
   ],
   "source": [
    "#head\n",
    "pd.read_sql(\"\"\"SELECT *\n",
    "               FROM Indicators\n",
    "               LIMIT 20;\"\"\",\n",
    "           conn)"
   ],
   "metadata": {
    "collapsed": false,
    "ExecuteTime": {
     "end_time": "2023-09-08T17:39:42.568708500Z",
     "start_time": "2023-09-08T17:39:42.554167800Z"
    }
   },
   "id": "155e14095b5704dc"
  },
  {
   "cell_type": "code",
   "execution_count": 5,
   "outputs": [
    {
     "data": {
      "text/plain": "   count_of_raws\n0        5656458",
      "text/html": "<div>\n<style scoped>\n    .dataframe tbody tr th:only-of-type {\n        vertical-align: middle;\n    }\n\n    .dataframe tbody tr th {\n        vertical-align: top;\n    }\n\n    .dataframe thead th {\n        text-align: right;\n    }\n</style>\n<table border=\"1\" class=\"dataframe\">\n  <thead>\n    <tr style=\"text-align: right;\">\n      <th></th>\n      <th>count_of_raws</th>\n    </tr>\n  </thead>\n  <tbody>\n    <tr>\n      <th>0</th>\n      <td>5656458</td>\n    </tr>\n  </tbody>\n</table>\n</div>"
     },
     "execution_count": 5,
     "metadata": {},
     "output_type": "execute_result"
    }
   ],
   "source": [
    "#Count of raws\n",
    "pd.read_sql(\"\"\"SELECT COUNT(*) AS count_of_raws\n",
    "               FROM Indicators;\"\"\",\n",
    "           conn)"
   ],
   "metadata": {
    "collapsed": false,
    "ExecuteTime": {
     "end_time": "2023-09-08T17:39:42.745957500Z",
     "start_time": "2023-09-08T17:39:42.561168500Z"
    }
   },
   "id": "758cefc1f0ef035e"
  },
  {
   "cell_type": "code",
   "execution_count": 6,
   "outputs": [
    {
     "data": {
      "text/plain": "   CountryCode            ShortName            TableName  \\\n0          AFG          Afghanistan          Afghanistan   \n1          ALB              Albania              Albania   \n2          DZA              Algeria              Algeria   \n3          ASM       American Samoa       American Samoa   \n4          ADO              Andorra              Andorra   \n5          AGO               Angola               Angola   \n6          ATG  Antigua and Barbuda  Antigua and Barbuda   \n7          ARB           Arab World           Arab World   \n8          ARG            Argentina            Argentina   \n9          ARM              Armenia              Armenia   \n10         ABW                Aruba                Aruba   \n11         AUS            Australia            Australia   \n12         AUT              Austria              Austria   \n13         AZE           Azerbaijan           Azerbaijan   \n14         BHR              Bahrain              Bahrain   \n15         BGD           Bangladesh           Bangladesh   \n16         BRB             Barbados             Barbados   \n17         BLR              Belarus              Belarus   \n18         BEL              Belgium              Belgium   \n19         BLZ               Belize               Belize   \n\n                                   LongName Alpha2Code           CurrencyUnit  \\\n0              Islamic State of Afghanistan         AF         Afghan afghani   \n1                       Republic of Albania         AL           Albanian lek   \n2   People's Democratic Republic of Algeria         DZ         Algerian dinar   \n3                            American Samoa         AS            U.S. dollar   \n4                   Principality of Andorra         AD                   Euro   \n5               People's Republic of Angola         AO         Angolan kwanza   \n6                       Antigua and Barbuda         AG  East Caribbean dollar   \n7                                Arab World         1A                          \n8                        Argentine Republic         AR         Argentine peso   \n9                       Republic of Armenia         AM          Armenian dram   \n10                                    Aruba         AW          Aruban florin   \n11                Commonwealth of Australia         AU      Australian dollar   \n12                      Republic of Austria         AT                   Euro   \n13                   Republic of Azerbaijan         AZ        New Azeri manat   \n14                       Kingdom of Bahrain         BH         Bahraini dinar   \n15          People's Republic of Bangladesh         BD       Bangladeshi taka   \n16                                 Barbados         BB        Barbados dollar   \n17                      Republic of Belarus         BY       Belarusian rubel   \n18                       Kingdom of Belgium         BE                   Euro   \n19                                   Belize         BZ          Belize dollar   \n\n                                         SpecialNotes  \\\n0   Fiscal year end: March 20; reporting period fo...   \n1                                                       \n2                                                       \n3                                                       \n4                                                       \n5   April 2013 database update: Based on IMF data,...   \n6   April 2012 database update: Based on official ...   \n7   Arab World aggregate. Arab World is composed o...   \n8                  The base year has changed to 2004.   \n9                                                       \n10  SNA data for 2000-2011 are updated from offici...   \n11  Fiscal year end: June 30; reporting period for...   \n12  A simple multiplier is used to convert the nat...   \n13  April 2012 database update: National accounts ...   \n14  Based on official government statistics; the n...   \n15  Fiscal year end: June 30; reporting period for...   \n16                                                      \n17                                                      \n18  A simple multiplier is used to convert the nat...   \n19                                                      \n\n                        Region           IncomeGroup Wb2Code  ...  \\\n0                   South Asia            Low income      AF  ...   \n1        Europe & Central Asia   Upper middle income      AL  ...   \n2   Middle East & North Africa   Upper middle income      DZ  ...   \n3          East Asia & Pacific   Upper middle income      AS  ...   \n4        Europe & Central Asia  High income: nonOECD      AD  ...   \n5           Sub-Saharan Africa   Upper middle income      AO  ...   \n6    Latin America & Caribbean  High income: nonOECD      AG  ...   \n7                                                         1A  ...   \n8    Latin America & Caribbean  High income: nonOECD      AR  ...   \n9        Europe & Central Asia   Lower middle income      AM  ...   \n10   Latin America & Caribbean  High income: nonOECD      AW  ...   \n11         East Asia & Pacific     High income: OECD      AU  ...   \n12       Europe & Central Asia     High income: OECD      AT  ...   \n13       Europe & Central Asia   Upper middle income      AZ  ...   \n14  Middle East & North Africa  High income: nonOECD      BH  ...   \n15                  South Asia   Lower middle income      BD  ...   \n16   Latin America & Caribbean  High income: nonOECD      BB  ...   \n17       Europe & Central Asia   Upper middle income      BY  ...   \n18       Europe & Central Asia     High income: OECD      BE  ...   \n19   Latin America & Caribbean   Upper middle income      BZ  ...   \n\n        GovernmentAccountingConcept  \\\n0   Consolidated central government   \n1      Budgetary central government   \n2      Budgetary central government   \n3                                     \n4                                     \n5      Budgetary central government   \n6      Budgetary central government   \n7                                     \n8   Consolidated central government   \n9   Consolidated central government   \n10                                    \n11  Consolidated central government   \n12  Consolidated central government   \n13  Consolidated central government   \n14     Budgetary central government   \n15  Consolidated central government   \n16     Budgetary central government   \n17  Consolidated central government   \n18  Consolidated central government   \n19     Budgetary central government   \n\n                  ImfDataDisseminationStandard  \\\n0     General Data Dissemination System (GDDS)   \n1     General Data Dissemination System (GDDS)   \n2     General Data Dissemination System (GDDS)   \n3                                                \n4                                                \n5     General Data Dissemination System (GDDS)   \n6     General Data Dissemination System (GDDS)   \n7                                                \n8   Special Data Dissemination Standard (SDDS)   \n9   Special Data Dissemination Standard (SDDS)   \n10                                               \n11  Special Data Dissemination Standard (SDDS)   \n12  Special Data Dissemination Standard (SDDS)   \n13    General Data Dissemination System (GDDS)   \n14    General Data Dissemination System (GDDS)   \n15    General Data Dissemination System (GDDS)   \n16    General Data Dissemination System (GDDS)   \n17  Special Data Dissemination Standard (SDDS)   \n18  Special Data Dissemination Standard (SDDS)   \n19    General Data Dissemination System (GDDS)   \n\n                               LatestPopulationCensus  \\\n0                                                1979   \n1                                                2011   \n2                                                2008   \n3                                                2010   \n4   2011. Population data compiled from administra...   \n5                                                2014   \n6                                                2011   \n7                                                       \n8                                                2010   \n9                                                2011   \n10                                               2010   \n11                                               2011   \n12  2011. Population data compiled from administra...   \n13                                               2009   \n14                                               2010   \n15                                               2011   \n16                                               2010   \n17                                               2009   \n18                                               2011   \n19                                               2010   \n\n                                LatestHouseholdSurvey  \\\n0   Multiple Indicator Cluster Survey (MICS), 2010/11   \n1        Demographic and Health Survey (DHS), 2008/09   \n2      Multiple Indicator Cluster Survey (MICS), 2012   \n3                                                       \n4                                                       \n5                Malaria Indicator Survey (MIS), 2011   \n6                                                       \n7                                                       \n8   Multiple Indicator Cluster Survey (MICS), 2011/12   \n9           Demographic and Health Survey (DHS), 2010   \n10                                                      \n11                                                      \n12                                                      \n13          Demographic and Health Survey (DHS), 2006   \n14                                                      \n15  Demographic and Health Survey (DHS), 2014; HIV...   \n16     Multiple Indicator Cluster Survey (MICS), 2012   \n17     Multiple Indicator Cluster Survey (MICS), 2012   \n18                                                      \n19     Multiple Indicator Cluster Survey (MICS), 2011   \n\n           SourceOfMostRecentIncomeAndExpenditureData  \\\n0             Integrated household survey (IHS), 2008   \n1   Living Standards Measurement Study Survey (LSM...   \n2             Integrated household survey (IHS), 1995   \n3                                                       \n4                                                       \n5          Integrated household survey (IHS), 2008/09   \n6                                                       \n7                                                       \n8             Integrated household survey (IHS), 2012   \n9             Integrated household survey (IHS), 2012   \n10                                                      \n11     Expenditure survey/budget survey (ES/BS), 2003   \n12            Integrated household survey (IHS), 2004   \n13  Living Standards Measurement Study Survey (LSM...   \n14                                                      \n15            Integrated household survey (IHS), 2010   \n16                                                      \n17            Integrated household survey (IHS), 2013   \n18            Integrated household survey (IHS), 2000   \n19                     Labor force survey (LFS), 1999   \n\n   VitalRegistrationComplete              LatestAgriculturalCensus  \\\n0                                                          2013/14   \n1                        Yes                                  2012   \n2                                                                    \n3                        Yes                                  2007   \n4                        Yes                                         \n5                                                             2015   \n6                        Yes                                  2007   \n7                                                                    \n8                        Yes                                  2013   \n9                        Yes                               2013/14   \n10                       Yes                                         \n11                       Yes                                  2011   \n12                       Yes                                  2010   \n13                       Yes                                  2015   \n14                       Yes                                         \n15                                                            2008   \n16                       Yes  2010. Population and Housing Census.   \n17                       Yes                                         \n18                       Yes                                  2010   \n19                                                                   \n\n   LatestIndustrialData LatestTradeData LatestWaterWithdrawalData  \n0                                  2013                      2000  \n1                  2011            2013                      2006  \n2                  2010            2013                      2001  \n3                                                                  \n4                                  2006                            \n5                                                            2005  \n6                                  2013                      2005  \n7                                                                  \n8                  2002            2013                      2011  \n9                  2008            2013                      2012  \n10                                 2012                            \n11                 2011            2013                      2000  \n12                 2010            2013                      2002  \n13                 2011            2013                      2012  \n14                 2010            2011                      2003  \n15                                 2007                      2008  \n16                                 2013                      2005  \n17                 2011            2013                      2000  \n18                 2010            2013                      2007  \n19                                 2013                      2000  \n\n[20 rows x 31 columns]",
      "text/html": "<div>\n<style scoped>\n    .dataframe tbody tr th:only-of-type {\n        vertical-align: middle;\n    }\n\n    .dataframe tbody tr th {\n        vertical-align: top;\n    }\n\n    .dataframe thead th {\n        text-align: right;\n    }\n</style>\n<table border=\"1\" class=\"dataframe\">\n  <thead>\n    <tr style=\"text-align: right;\">\n      <th></th>\n      <th>CountryCode</th>\n      <th>ShortName</th>\n      <th>TableName</th>\n      <th>LongName</th>\n      <th>Alpha2Code</th>\n      <th>CurrencyUnit</th>\n      <th>SpecialNotes</th>\n      <th>Region</th>\n      <th>IncomeGroup</th>\n      <th>Wb2Code</th>\n      <th>...</th>\n      <th>GovernmentAccountingConcept</th>\n      <th>ImfDataDisseminationStandard</th>\n      <th>LatestPopulationCensus</th>\n      <th>LatestHouseholdSurvey</th>\n      <th>SourceOfMostRecentIncomeAndExpenditureData</th>\n      <th>VitalRegistrationComplete</th>\n      <th>LatestAgriculturalCensus</th>\n      <th>LatestIndustrialData</th>\n      <th>LatestTradeData</th>\n      <th>LatestWaterWithdrawalData</th>\n    </tr>\n  </thead>\n  <tbody>\n    <tr>\n      <th>0</th>\n      <td>AFG</td>\n      <td>Afghanistan</td>\n      <td>Afghanistan</td>\n      <td>Islamic State of Afghanistan</td>\n      <td>AF</td>\n      <td>Afghan afghani</td>\n      <td>Fiscal year end: March 20; reporting period fo...</td>\n      <td>South Asia</td>\n      <td>Low income</td>\n      <td>AF</td>\n      <td>...</td>\n      <td>Consolidated central government</td>\n      <td>General Data Dissemination System (GDDS)</td>\n      <td>1979</td>\n      <td>Multiple Indicator Cluster Survey (MICS), 2010/11</td>\n      <td>Integrated household survey (IHS), 2008</td>\n      <td></td>\n      <td>2013/14</td>\n      <td></td>\n      <td>2013</td>\n      <td>2000</td>\n    </tr>\n    <tr>\n      <th>1</th>\n      <td>ALB</td>\n      <td>Albania</td>\n      <td>Albania</td>\n      <td>Republic of Albania</td>\n      <td>AL</td>\n      <td>Albanian lek</td>\n      <td></td>\n      <td>Europe &amp; Central Asia</td>\n      <td>Upper middle income</td>\n      <td>AL</td>\n      <td>...</td>\n      <td>Budgetary central government</td>\n      <td>General Data Dissemination System (GDDS)</td>\n      <td>2011</td>\n      <td>Demographic and Health Survey (DHS), 2008/09</td>\n      <td>Living Standards Measurement Study Survey (LSM...</td>\n      <td>Yes</td>\n      <td>2012</td>\n      <td>2011</td>\n      <td>2013</td>\n      <td>2006</td>\n    </tr>\n    <tr>\n      <th>2</th>\n      <td>DZA</td>\n      <td>Algeria</td>\n      <td>Algeria</td>\n      <td>People's Democratic Republic of Algeria</td>\n      <td>DZ</td>\n      <td>Algerian dinar</td>\n      <td></td>\n      <td>Middle East &amp; North Africa</td>\n      <td>Upper middle income</td>\n      <td>DZ</td>\n      <td>...</td>\n      <td>Budgetary central government</td>\n      <td>General Data Dissemination System (GDDS)</td>\n      <td>2008</td>\n      <td>Multiple Indicator Cluster Survey (MICS), 2012</td>\n      <td>Integrated household survey (IHS), 1995</td>\n      <td></td>\n      <td></td>\n      <td>2010</td>\n      <td>2013</td>\n      <td>2001</td>\n    </tr>\n    <tr>\n      <th>3</th>\n      <td>ASM</td>\n      <td>American Samoa</td>\n      <td>American Samoa</td>\n      <td>American Samoa</td>\n      <td>AS</td>\n      <td>U.S. dollar</td>\n      <td></td>\n      <td>East Asia &amp; Pacific</td>\n      <td>Upper middle income</td>\n      <td>AS</td>\n      <td>...</td>\n      <td></td>\n      <td></td>\n      <td>2010</td>\n      <td></td>\n      <td></td>\n      <td>Yes</td>\n      <td>2007</td>\n      <td></td>\n      <td></td>\n      <td></td>\n    </tr>\n    <tr>\n      <th>4</th>\n      <td>ADO</td>\n      <td>Andorra</td>\n      <td>Andorra</td>\n      <td>Principality of Andorra</td>\n      <td>AD</td>\n      <td>Euro</td>\n      <td></td>\n      <td>Europe &amp; Central Asia</td>\n      <td>High income: nonOECD</td>\n      <td>AD</td>\n      <td>...</td>\n      <td></td>\n      <td></td>\n      <td>2011. Population data compiled from administra...</td>\n      <td></td>\n      <td></td>\n      <td>Yes</td>\n      <td></td>\n      <td></td>\n      <td>2006</td>\n      <td></td>\n    </tr>\n    <tr>\n      <th>5</th>\n      <td>AGO</td>\n      <td>Angola</td>\n      <td>Angola</td>\n      <td>People's Republic of Angola</td>\n      <td>AO</td>\n      <td>Angolan kwanza</td>\n      <td>April 2013 database update: Based on IMF data,...</td>\n      <td>Sub-Saharan Africa</td>\n      <td>Upper middle income</td>\n      <td>AO</td>\n      <td>...</td>\n      <td>Budgetary central government</td>\n      <td>General Data Dissemination System (GDDS)</td>\n      <td>2014</td>\n      <td>Malaria Indicator Survey (MIS), 2011</td>\n      <td>Integrated household survey (IHS), 2008/09</td>\n      <td></td>\n      <td>2015</td>\n      <td></td>\n      <td></td>\n      <td>2005</td>\n    </tr>\n    <tr>\n      <th>6</th>\n      <td>ATG</td>\n      <td>Antigua and Barbuda</td>\n      <td>Antigua and Barbuda</td>\n      <td>Antigua and Barbuda</td>\n      <td>AG</td>\n      <td>East Caribbean dollar</td>\n      <td>April 2012 database update: Based on official ...</td>\n      <td>Latin America &amp; Caribbean</td>\n      <td>High income: nonOECD</td>\n      <td>AG</td>\n      <td>...</td>\n      <td>Budgetary central government</td>\n      <td>General Data Dissemination System (GDDS)</td>\n      <td>2011</td>\n      <td></td>\n      <td></td>\n      <td>Yes</td>\n      <td>2007</td>\n      <td></td>\n      <td>2013</td>\n      <td>2005</td>\n    </tr>\n    <tr>\n      <th>7</th>\n      <td>ARB</td>\n      <td>Arab World</td>\n      <td>Arab World</td>\n      <td>Arab World</td>\n      <td>1A</td>\n      <td></td>\n      <td>Arab World aggregate. Arab World is composed o...</td>\n      <td></td>\n      <td></td>\n      <td>1A</td>\n      <td>...</td>\n      <td></td>\n      <td></td>\n      <td></td>\n      <td></td>\n      <td></td>\n      <td></td>\n      <td></td>\n      <td></td>\n      <td></td>\n      <td></td>\n    </tr>\n    <tr>\n      <th>8</th>\n      <td>ARG</td>\n      <td>Argentina</td>\n      <td>Argentina</td>\n      <td>Argentine Republic</td>\n      <td>AR</td>\n      <td>Argentine peso</td>\n      <td>The base year has changed to 2004.</td>\n      <td>Latin America &amp; Caribbean</td>\n      <td>High income: nonOECD</td>\n      <td>AR</td>\n      <td>...</td>\n      <td>Consolidated central government</td>\n      <td>Special Data Dissemination Standard (SDDS)</td>\n      <td>2010</td>\n      <td>Multiple Indicator Cluster Survey (MICS), 2011/12</td>\n      <td>Integrated household survey (IHS), 2012</td>\n      <td>Yes</td>\n      <td>2013</td>\n      <td>2002</td>\n      <td>2013</td>\n      <td>2011</td>\n    </tr>\n    <tr>\n      <th>9</th>\n      <td>ARM</td>\n      <td>Armenia</td>\n      <td>Armenia</td>\n      <td>Republic of Armenia</td>\n      <td>AM</td>\n      <td>Armenian dram</td>\n      <td></td>\n      <td>Europe &amp; Central Asia</td>\n      <td>Lower middle income</td>\n      <td>AM</td>\n      <td>...</td>\n      <td>Consolidated central government</td>\n      <td>Special Data Dissemination Standard (SDDS)</td>\n      <td>2011</td>\n      <td>Demographic and Health Survey (DHS), 2010</td>\n      <td>Integrated household survey (IHS), 2012</td>\n      <td>Yes</td>\n      <td>2013/14</td>\n      <td>2008</td>\n      <td>2013</td>\n      <td>2012</td>\n    </tr>\n    <tr>\n      <th>10</th>\n      <td>ABW</td>\n      <td>Aruba</td>\n      <td>Aruba</td>\n      <td>Aruba</td>\n      <td>AW</td>\n      <td>Aruban florin</td>\n      <td>SNA data for 2000-2011 are updated from offici...</td>\n      <td>Latin America &amp; Caribbean</td>\n      <td>High income: nonOECD</td>\n      <td>AW</td>\n      <td>...</td>\n      <td></td>\n      <td></td>\n      <td>2010</td>\n      <td></td>\n      <td></td>\n      <td>Yes</td>\n      <td></td>\n      <td></td>\n      <td>2012</td>\n      <td></td>\n    </tr>\n    <tr>\n      <th>11</th>\n      <td>AUS</td>\n      <td>Australia</td>\n      <td>Australia</td>\n      <td>Commonwealth of Australia</td>\n      <td>AU</td>\n      <td>Australian dollar</td>\n      <td>Fiscal year end: June 30; reporting period for...</td>\n      <td>East Asia &amp; Pacific</td>\n      <td>High income: OECD</td>\n      <td>AU</td>\n      <td>...</td>\n      <td>Consolidated central government</td>\n      <td>Special Data Dissemination Standard (SDDS)</td>\n      <td>2011</td>\n      <td></td>\n      <td>Expenditure survey/budget survey (ES/BS), 2003</td>\n      <td>Yes</td>\n      <td>2011</td>\n      <td>2011</td>\n      <td>2013</td>\n      <td>2000</td>\n    </tr>\n    <tr>\n      <th>12</th>\n      <td>AUT</td>\n      <td>Austria</td>\n      <td>Austria</td>\n      <td>Republic of Austria</td>\n      <td>AT</td>\n      <td>Euro</td>\n      <td>A simple multiplier is used to convert the nat...</td>\n      <td>Europe &amp; Central Asia</td>\n      <td>High income: OECD</td>\n      <td>AT</td>\n      <td>...</td>\n      <td>Consolidated central government</td>\n      <td>Special Data Dissemination Standard (SDDS)</td>\n      <td>2011. Population data compiled from administra...</td>\n      <td></td>\n      <td>Integrated household survey (IHS), 2004</td>\n      <td>Yes</td>\n      <td>2010</td>\n      <td>2010</td>\n      <td>2013</td>\n      <td>2002</td>\n    </tr>\n    <tr>\n      <th>13</th>\n      <td>AZE</td>\n      <td>Azerbaijan</td>\n      <td>Azerbaijan</td>\n      <td>Republic of Azerbaijan</td>\n      <td>AZ</td>\n      <td>New Azeri manat</td>\n      <td>April 2012 database update: National accounts ...</td>\n      <td>Europe &amp; Central Asia</td>\n      <td>Upper middle income</td>\n      <td>AZ</td>\n      <td>...</td>\n      <td>Consolidated central government</td>\n      <td>General Data Dissemination System (GDDS)</td>\n      <td>2009</td>\n      <td>Demographic and Health Survey (DHS), 2006</td>\n      <td>Living Standards Measurement Study Survey (LSM...</td>\n      <td>Yes</td>\n      <td>2015</td>\n      <td>2011</td>\n      <td>2013</td>\n      <td>2012</td>\n    </tr>\n    <tr>\n      <th>14</th>\n      <td>BHR</td>\n      <td>Bahrain</td>\n      <td>Bahrain</td>\n      <td>Kingdom of Bahrain</td>\n      <td>BH</td>\n      <td>Bahraini dinar</td>\n      <td>Based on official government statistics; the n...</td>\n      <td>Middle East &amp; North Africa</td>\n      <td>High income: nonOECD</td>\n      <td>BH</td>\n      <td>...</td>\n      <td>Budgetary central government</td>\n      <td>General Data Dissemination System (GDDS)</td>\n      <td>2010</td>\n      <td></td>\n      <td></td>\n      <td>Yes</td>\n      <td></td>\n      <td>2010</td>\n      <td>2011</td>\n      <td>2003</td>\n    </tr>\n    <tr>\n      <th>15</th>\n      <td>BGD</td>\n      <td>Bangladesh</td>\n      <td>Bangladesh</td>\n      <td>People's Republic of Bangladesh</td>\n      <td>BD</td>\n      <td>Bangladeshi taka</td>\n      <td>Fiscal year end: June 30; reporting period for...</td>\n      <td>South Asia</td>\n      <td>Lower middle income</td>\n      <td>BD</td>\n      <td>...</td>\n      <td>Consolidated central government</td>\n      <td>General Data Dissemination System (GDDS)</td>\n      <td>2011</td>\n      <td>Demographic and Health Survey (DHS), 2014; HIV...</td>\n      <td>Integrated household survey (IHS), 2010</td>\n      <td></td>\n      <td>2008</td>\n      <td></td>\n      <td>2007</td>\n      <td>2008</td>\n    </tr>\n    <tr>\n      <th>16</th>\n      <td>BRB</td>\n      <td>Barbados</td>\n      <td>Barbados</td>\n      <td>Barbados</td>\n      <td>BB</td>\n      <td>Barbados dollar</td>\n      <td></td>\n      <td>Latin America &amp; Caribbean</td>\n      <td>High income: nonOECD</td>\n      <td>BB</td>\n      <td>...</td>\n      <td>Budgetary central government</td>\n      <td>General Data Dissemination System (GDDS)</td>\n      <td>2010</td>\n      <td>Multiple Indicator Cluster Survey (MICS), 2012</td>\n      <td></td>\n      <td>Yes</td>\n      <td>2010. Population and Housing Census.</td>\n      <td></td>\n      <td>2013</td>\n      <td>2005</td>\n    </tr>\n    <tr>\n      <th>17</th>\n      <td>BLR</td>\n      <td>Belarus</td>\n      <td>Belarus</td>\n      <td>Republic of Belarus</td>\n      <td>BY</td>\n      <td>Belarusian rubel</td>\n      <td></td>\n      <td>Europe &amp; Central Asia</td>\n      <td>Upper middle income</td>\n      <td>BY</td>\n      <td>...</td>\n      <td>Consolidated central government</td>\n      <td>Special Data Dissemination Standard (SDDS)</td>\n      <td>2009</td>\n      <td>Multiple Indicator Cluster Survey (MICS), 2012</td>\n      <td>Integrated household survey (IHS), 2013</td>\n      <td>Yes</td>\n      <td></td>\n      <td>2011</td>\n      <td>2013</td>\n      <td>2000</td>\n    </tr>\n    <tr>\n      <th>18</th>\n      <td>BEL</td>\n      <td>Belgium</td>\n      <td>Belgium</td>\n      <td>Kingdom of Belgium</td>\n      <td>BE</td>\n      <td>Euro</td>\n      <td>A simple multiplier is used to convert the nat...</td>\n      <td>Europe &amp; Central Asia</td>\n      <td>High income: OECD</td>\n      <td>BE</td>\n      <td>...</td>\n      <td>Consolidated central government</td>\n      <td>Special Data Dissemination Standard (SDDS)</td>\n      <td>2011</td>\n      <td></td>\n      <td>Integrated household survey (IHS), 2000</td>\n      <td>Yes</td>\n      <td>2010</td>\n      <td>2010</td>\n      <td>2013</td>\n      <td>2007</td>\n    </tr>\n    <tr>\n      <th>19</th>\n      <td>BLZ</td>\n      <td>Belize</td>\n      <td>Belize</td>\n      <td>Belize</td>\n      <td>BZ</td>\n      <td>Belize dollar</td>\n      <td></td>\n      <td>Latin America &amp; Caribbean</td>\n      <td>Upper middle income</td>\n      <td>BZ</td>\n      <td>...</td>\n      <td>Budgetary central government</td>\n      <td>General Data Dissemination System (GDDS)</td>\n      <td>2010</td>\n      <td>Multiple Indicator Cluster Survey (MICS), 2011</td>\n      <td>Labor force survey (LFS), 1999</td>\n      <td></td>\n      <td></td>\n      <td></td>\n      <td>2013</td>\n      <td>2000</td>\n    </tr>\n  </tbody>\n</table>\n<p>20 rows × 31 columns</p>\n</div>"
     },
     "execution_count": 6,
     "metadata": {},
     "output_type": "execute_result"
    }
   ],
   "source": [
    "pd.read_sql(\"\"\"SELECT *\n",
    "               FROM Country\n",
    "               LIMIT 20;\"\"\",\n",
    "           conn)"
   ],
   "metadata": {
    "collapsed": false,
    "ExecuteTime": {
     "end_time": "2023-09-08T17:39:42.747032700Z",
     "start_time": "2023-09-08T17:39:42.685366500Z"
    }
   },
   "id": "647975a61f31cc1a"
  },
  {
   "cell_type": "code",
   "execution_count": 7,
   "outputs": [
    {
     "data": {
      "text/plain": "   count_of_raws\n0            247",
      "text/html": "<div>\n<style scoped>\n    .dataframe tbody tr th:only-of-type {\n        vertical-align: middle;\n    }\n\n    .dataframe tbody tr th {\n        vertical-align: top;\n    }\n\n    .dataframe thead th {\n        text-align: right;\n    }\n</style>\n<table border=\"1\" class=\"dataframe\">\n  <thead>\n    <tr style=\"text-align: right;\">\n      <th></th>\n      <th>count_of_raws</th>\n    </tr>\n  </thead>\n  <tbody>\n    <tr>\n      <th>0</th>\n      <td>247</td>\n    </tr>\n  </tbody>\n</table>\n</div>"
     },
     "execution_count": 7,
     "metadata": {},
     "output_type": "execute_result"
    }
   ],
   "source": [
    "#Count of raws\n",
    "pd.read_sql(\"\"\"SELECT COUNT(*) AS count_of_raws\n",
    "               FROM Country;\"\"\",\n",
    "           conn)"
   ],
   "metadata": {
    "collapsed": false,
    "ExecuteTime": {
     "end_time": "2023-09-08T17:39:42.748068Z",
     "start_time": "2023-09-08T17:39:42.716957600Z"
    }
   },
   "id": "5cd283ebfa711234"
  },
  {
   "cell_type": "code",
   "execution_count": 8,
   "outputs": [
    {
     "data": {
      "text/plain": "            CountryName\n0           Afghanistan\n1               Albania\n2               Algeria\n3        American Samoa\n4               Andorra\n..                  ...\n242  West Bank and Gaza\n243               World\n244         Yemen, Rep.\n245              Zambia\n246            Zimbabwe\n\n[247 rows x 1 columns]",
      "text/html": "<div>\n<style scoped>\n    .dataframe tbody tr th:only-of-type {\n        vertical-align: middle;\n    }\n\n    .dataframe tbody tr th {\n        vertical-align: top;\n    }\n\n    .dataframe thead th {\n        text-align: right;\n    }\n</style>\n<table border=\"1\" class=\"dataframe\">\n  <thead>\n    <tr style=\"text-align: right;\">\n      <th></th>\n      <th>CountryName</th>\n    </tr>\n  </thead>\n  <tbody>\n    <tr>\n      <th>0</th>\n      <td>Afghanistan</td>\n    </tr>\n    <tr>\n      <th>1</th>\n      <td>Albania</td>\n    </tr>\n    <tr>\n      <th>2</th>\n      <td>Algeria</td>\n    </tr>\n    <tr>\n      <th>3</th>\n      <td>American Samoa</td>\n    </tr>\n    <tr>\n      <th>4</th>\n      <td>Andorra</td>\n    </tr>\n    <tr>\n      <th>...</th>\n      <td>...</td>\n    </tr>\n    <tr>\n      <th>242</th>\n      <td>West Bank and Gaza</td>\n    </tr>\n    <tr>\n      <th>243</th>\n      <td>World</td>\n    </tr>\n    <tr>\n      <th>244</th>\n      <td>Yemen, Rep.</td>\n    </tr>\n    <tr>\n      <th>245</th>\n      <td>Zambia</td>\n    </tr>\n    <tr>\n      <th>246</th>\n      <td>Zimbabwe</td>\n    </tr>\n  </tbody>\n</table>\n<p>247 rows × 1 columns</p>\n</div>"
     },
     "execution_count": 8,
     "metadata": {},
     "output_type": "execute_result"
    }
   ],
   "source": [
    "#Retrieving the values of CountryName for all countries\n",
    "pd.read_sql(\"\"\"SELECT DISTINCT CountryName\n",
    "               FROM Indicators;\"\"\",\n",
    "           conn)"
   ],
   "metadata": {
    "collapsed": false,
    "ExecuteTime": {
     "end_time": "2023-09-08T17:39:43.215129Z",
     "start_time": "2023-09-08T17:39:42.732956900Z"
    }
   },
   "id": "1a3c0159bc6a8b06"
  },
  {
   "cell_type": "code",
   "execution_count": 9,
   "outputs": [
    {
     "data": {
      "text/plain": "                       Region  Count\n0       Europe & Central Asia     57\n1          Sub-Saharan Africa     48\n2   Latin America & Caribbean     41\n3         East Asia & Pacific     36\n4                                 33\n5  Middle East & North Africa     21\n6                  South Asia      8\n7               North America      3",
      "text/html": "<div>\n<style scoped>\n    .dataframe tbody tr th:only-of-type {\n        vertical-align: middle;\n    }\n\n    .dataframe tbody tr th {\n        vertical-align: top;\n    }\n\n    .dataframe thead th {\n        text-align: right;\n    }\n</style>\n<table border=\"1\" class=\"dataframe\">\n  <thead>\n    <tr style=\"text-align: right;\">\n      <th></th>\n      <th>Region</th>\n      <th>Count</th>\n    </tr>\n  </thead>\n  <tbody>\n    <tr>\n      <th>0</th>\n      <td>Europe &amp; Central Asia</td>\n      <td>57</td>\n    </tr>\n    <tr>\n      <th>1</th>\n      <td>Sub-Saharan Africa</td>\n      <td>48</td>\n    </tr>\n    <tr>\n      <th>2</th>\n      <td>Latin America &amp; Caribbean</td>\n      <td>41</td>\n    </tr>\n    <tr>\n      <th>3</th>\n      <td>East Asia &amp; Pacific</td>\n      <td>36</td>\n    </tr>\n    <tr>\n      <th>4</th>\n      <td></td>\n      <td>33</td>\n    </tr>\n    <tr>\n      <th>5</th>\n      <td>Middle East &amp; North Africa</td>\n      <td>21</td>\n    </tr>\n    <tr>\n      <th>6</th>\n      <td>South Asia</td>\n      <td>8</td>\n    </tr>\n    <tr>\n      <th>7</th>\n      <td>North America</td>\n      <td>3</td>\n    </tr>\n  </tbody>\n</table>\n</div>"
     },
     "execution_count": 9,
     "metadata": {},
     "output_type": "execute_result"
    }
   ],
   "source": [
    "#Grouping and counting records by region\n",
    "pd.read_sql(\"\"\"SELECT Region, COUNT(*) AS [Count]\n",
    "               FROM Country \n",
    "               GROUP BY Region\n",
    "               ORDER BY 2 DESC;\"\"\",\n",
    "            conn)"
   ],
   "metadata": {
    "collapsed": false,
    "ExecuteTime": {
     "end_time": "2023-09-08T17:39:43.249137Z",
     "start_time": "2023-09-08T17:39:43.201520500Z"
    }
   },
   "id": "ce214203bd94c93e"
  },
  {
   "cell_type": "code",
   "execution_count": 10,
   "outputs": [
    {
     "data": {
      "text/plain": "   CountryName  CountryCode  IndicatorName  IndicatorCode  Year  Value\n0            0            0              0              0     0      0",
      "text/html": "<div>\n<style scoped>\n    .dataframe tbody tr th:only-of-type {\n        vertical-align: middle;\n    }\n\n    .dataframe tbody tr th {\n        vertical-align: top;\n    }\n\n    .dataframe thead th {\n        text-align: right;\n    }\n</style>\n<table border=\"1\" class=\"dataframe\">\n  <thead>\n    <tr style=\"text-align: right;\">\n      <th></th>\n      <th>CountryName</th>\n      <th>CountryCode</th>\n      <th>IndicatorName</th>\n      <th>IndicatorCode</th>\n      <th>Year</th>\n      <th>Value</th>\n    </tr>\n  </thead>\n  <tbody>\n    <tr>\n      <th>0</th>\n      <td>0</td>\n      <td>0</td>\n      <td>0</td>\n      <td>0</td>\n      <td>0</td>\n      <td>0</td>\n    </tr>\n  </tbody>\n</table>\n</div>"
     },
     "execution_count": 10,
     "metadata": {},
     "output_type": "execute_result"
    }
   ],
   "source": [
    "#Checking missing values on all columns\n",
    "pd.read_sql(\"\"\"SELECT COUNT(*) - COUNT(CountryName) AS CountryName,\n",
    "                      COUNT(*) - COUNT(CountryCode) AS CountryCode,\n",
    "                      COUNT(*) - COUNT(IndicatorName) AS IndicatorName,\n",
    "                      COUNT(*) - COUNT(IndicatorCode) AS IndicatorCode, \n",
    "                      COUNT(*) - COUNT(Year) AS Year, \n",
    "                      COUNT(*) - COUNT(Value) AS Value\n",
    "                FROM Indicators;\"\"\",\n",
    "           conn)"
   ],
   "metadata": {
    "collapsed": false,
    "ExecuteTime": {
     "end_time": "2023-09-08T17:39:45.440596300Z",
     "start_time": "2023-09-08T17:39:43.218139800Z"
    }
   },
   "id": "7c30d5b1e69589a2"
  },
  {
   "cell_type": "code",
   "execution_count": 11,
   "outputs": [
    {
     "data": {
      "text/plain": "   COUNT(*)\n0         0",
      "text/html": "<div>\n<style scoped>\n    .dataframe tbody tr th:only-of-type {\n        vertical-align: middle;\n    }\n\n    .dataframe tbody tr th {\n        vertical-align: top;\n    }\n\n    .dataframe thead th {\n        text-align: right;\n    }\n</style>\n<table border=\"1\" class=\"dataframe\">\n  <thead>\n    <tr style=\"text-align: right;\">\n      <th></th>\n      <th>COUNT(*)</th>\n    </tr>\n  </thead>\n  <tbody>\n    <tr>\n      <th>0</th>\n      <td>0</td>\n    </tr>\n  </tbody>\n</table>\n</div>"
     },
     "execution_count": 11,
     "metadata": {},
     "output_type": "execute_result"
    }
   ],
   "source": [
    "#Null values\n",
    "pd.read_sql(\"\"\"SELECT COUNT(*)\n",
    "               FROM Indicators\n",
    "               WHERE IndicatorName IS NULL;\"\"\",\n",
    "           conn)"
   ],
   "metadata": {
    "collapsed": false,
    "ExecuteTime": {
     "end_time": "2023-09-08T17:39:45.471121300Z",
     "start_time": "2023-09-08T17:39:45.439595900Z"
    }
   },
   "id": "4479fc34094ddc8"
  },
  {
   "cell_type": "code",
   "execution_count": 12,
   "outputs": [
    {
     "data": {
      "text/plain": "   number_of_unique_values\n0                     1344",
      "text/html": "<div>\n<style scoped>\n    .dataframe tbody tr th:only-of-type {\n        vertical-align: middle;\n    }\n\n    .dataframe tbody tr th {\n        vertical-align: top;\n    }\n\n    .dataframe thead th {\n        text-align: right;\n    }\n</style>\n<table border=\"1\" class=\"dataframe\">\n  <thead>\n    <tr style=\"text-align: right;\">\n      <th></th>\n      <th>number_of_unique_values</th>\n    </tr>\n  </thead>\n  <tbody>\n    <tr>\n      <th>0</th>\n      <td>1344</td>\n    </tr>\n  </tbody>\n</table>\n</div>"
     },
     "execution_count": 12,
     "metadata": {},
     "output_type": "execute_result"
    }
   ],
   "source": [
    "#number of unique values\n",
    "# how many indicators?\n",
    "pd.read_sql(\"\"\"SELECT COUNT (DISTINCT IndicatorName) AS number_of_unique_values\n",
    "                FROM Indicators;\"\"\",\n",
    "           conn)"
   ],
   "metadata": {
    "collapsed": false,
    "ExecuteTime": {
     "end_time": "2023-09-08T17:39:46.522036500Z",
     "start_time": "2023-09-08T17:39:45.451604400Z"
    }
   },
   "id": "896f9eb0d6a9f3e6"
  },
  {
   "cell_type": "code",
   "execution_count": 13,
   "outputs": [
    {
     "data": {
      "text/plain": "                                        IndicatorName\n0                                  GDP (constant LCU)\n1                                   GDP (current LCU)\n2            GDP at market prices (constant 2005 US$)\n3                  GDP at market prices (current US$)\n4          GDP deflator (base year varies by country)\n5                               GDP growth (annual %)\n6                  GDP per capita (constant 2005 US$)\n7                       GDP per capita (constant LCU)\n8                        GDP per capita (current LCU)\n9                        GDP per capita (current US$)\n10                   GDP per capita growth (annual %)\n11  GDP per capita, PPP (constant 2011 internation...\n12      GDP per capita, PPP (current international $)\n13      GDP per person employed (constant 1990 PPP $)\n14  GDP per unit of energy use (PPP $ per kg of oi...\n15  GDP per unit of energy use (constant 2011 PPP ...\n16           GDP, PPP (constant 2011 international $)\n17                 GDP, PPP (current international $)",
      "text/html": "<div>\n<style scoped>\n    .dataframe tbody tr th:only-of-type {\n        vertical-align: middle;\n    }\n\n    .dataframe tbody tr th {\n        vertical-align: top;\n    }\n\n    .dataframe thead th {\n        text-align: right;\n    }\n</style>\n<table border=\"1\" class=\"dataframe\">\n  <thead>\n    <tr style=\"text-align: right;\">\n      <th></th>\n      <th>IndicatorName</th>\n    </tr>\n  </thead>\n  <tbody>\n    <tr>\n      <th>0</th>\n      <td>GDP (constant LCU)</td>\n    </tr>\n    <tr>\n      <th>1</th>\n      <td>GDP (current LCU)</td>\n    </tr>\n    <tr>\n      <th>2</th>\n      <td>GDP at market prices (constant 2005 US$)</td>\n    </tr>\n    <tr>\n      <th>3</th>\n      <td>GDP at market prices (current US$)</td>\n    </tr>\n    <tr>\n      <th>4</th>\n      <td>GDP deflator (base year varies by country)</td>\n    </tr>\n    <tr>\n      <th>5</th>\n      <td>GDP growth (annual %)</td>\n    </tr>\n    <tr>\n      <th>6</th>\n      <td>GDP per capita (constant 2005 US$)</td>\n    </tr>\n    <tr>\n      <th>7</th>\n      <td>GDP per capita (constant LCU)</td>\n    </tr>\n    <tr>\n      <th>8</th>\n      <td>GDP per capita (current LCU)</td>\n    </tr>\n    <tr>\n      <th>9</th>\n      <td>GDP per capita (current US$)</td>\n    </tr>\n    <tr>\n      <th>10</th>\n      <td>GDP per capita growth (annual %)</td>\n    </tr>\n    <tr>\n      <th>11</th>\n      <td>GDP per capita, PPP (constant 2011 internation...</td>\n    </tr>\n    <tr>\n      <th>12</th>\n      <td>GDP per capita, PPP (current international $)</td>\n    </tr>\n    <tr>\n      <th>13</th>\n      <td>GDP per person employed (constant 1990 PPP $)</td>\n    </tr>\n    <tr>\n      <th>14</th>\n      <td>GDP per unit of energy use (PPP $ per kg of oi...</td>\n    </tr>\n    <tr>\n      <th>15</th>\n      <td>GDP per unit of energy use (constant 2011 PPP ...</td>\n    </tr>\n    <tr>\n      <th>16</th>\n      <td>GDP, PPP (constant 2011 international $)</td>\n    </tr>\n    <tr>\n      <th>17</th>\n      <td>GDP, PPP (current international $)</td>\n    </tr>\n  </tbody>\n</table>\n</div>"
     },
     "execution_count": 13,
     "metadata": {},
     "output_type": "execute_result"
    }
   ],
   "source": [
    "#some indicators about GDP\n",
    "pd.read_sql(\"\"\"SELECT DISTINCT IndicatorName\n",
    "               FROM Indicators\n",
    "               WHERE IndicatorName LIKE 'GDP%';\"\"\",\n",
    "           conn)"
   ],
   "metadata": {
    "collapsed": false,
    "ExecuteTime": {
     "end_time": "2023-09-08T17:39:47.561090400Z",
     "start_time": "2023-09-08T17:39:46.506036600Z"
    }
   },
   "id": "116f12dce301f133"
  },
  {
   "cell_type": "code",
   "execution_count": 14,
   "outputs": [
    {
     "data": {
      "text/plain": "   CountryName CountryCode                 IndicatorName   IndicatorCode  \\\n0        India         IND  GDP per capita (current US$)  NY.GDP.PCAP.CD   \n1        India         IND  GDP per capita (current US$)  NY.GDP.PCAP.CD   \n2        India         IND  GDP per capita (current US$)  NY.GDP.PCAP.CD   \n3        India         IND  GDP per capita (current US$)  NY.GDP.PCAP.CD   \n4        India         IND  GDP per capita (current US$)  NY.GDP.PCAP.CD   \n5        India         IND  GDP per capita (current US$)  NY.GDP.PCAP.CD   \n6        India         IND  GDP per capita (current US$)  NY.GDP.PCAP.CD   \n7        India         IND  GDP per capita (current US$)  NY.GDP.PCAP.CD   \n8        India         IND  GDP per capita (current US$)  NY.GDP.PCAP.CD   \n9        India         IND  GDP per capita (current US$)  NY.GDP.PCAP.CD   \n10       India         IND  GDP per capita (current US$)  NY.GDP.PCAP.CD   \n11       India         IND  GDP per capita (current US$)  NY.GDP.PCAP.CD   \n12       India         IND  GDP per capita (current US$)  NY.GDP.PCAP.CD   \n13       India         IND  GDP per capita (current US$)  NY.GDP.PCAP.CD   \n14       India         IND  GDP per capita (current US$)  NY.GDP.PCAP.CD   \n\n    Year        Value  \n0   2000   452.413585  \n1   2001   460.826200  \n2   2002   480.621442  \n3   2003   557.897366  \n4   2004   640.600522  \n5   2005   729.000727  \n6   2006   816.733776  \n7   2007  1050.024801  \n8   2008  1022.577592  \n9   2009  1124.519446  \n10  2010  1387.880084  \n11  2011  1471.658439  \n12  2012  1449.664875  \n13  2013  1455.102191  \n14  2014  1581.510703  ",
      "text/html": "<div>\n<style scoped>\n    .dataframe tbody tr th:only-of-type {\n        vertical-align: middle;\n    }\n\n    .dataframe tbody tr th {\n        vertical-align: top;\n    }\n\n    .dataframe thead th {\n        text-align: right;\n    }\n</style>\n<table border=\"1\" class=\"dataframe\">\n  <thead>\n    <tr style=\"text-align: right;\">\n      <th></th>\n      <th>CountryName</th>\n      <th>CountryCode</th>\n      <th>IndicatorName</th>\n      <th>IndicatorCode</th>\n      <th>Year</th>\n      <th>Value</th>\n    </tr>\n  </thead>\n  <tbody>\n    <tr>\n      <th>0</th>\n      <td>India</td>\n      <td>IND</td>\n      <td>GDP per capita (current US$)</td>\n      <td>NY.GDP.PCAP.CD</td>\n      <td>2000</td>\n      <td>452.413585</td>\n    </tr>\n    <tr>\n      <th>1</th>\n      <td>India</td>\n      <td>IND</td>\n      <td>GDP per capita (current US$)</td>\n      <td>NY.GDP.PCAP.CD</td>\n      <td>2001</td>\n      <td>460.826200</td>\n    </tr>\n    <tr>\n      <th>2</th>\n      <td>India</td>\n      <td>IND</td>\n      <td>GDP per capita (current US$)</td>\n      <td>NY.GDP.PCAP.CD</td>\n      <td>2002</td>\n      <td>480.621442</td>\n    </tr>\n    <tr>\n      <th>3</th>\n      <td>India</td>\n      <td>IND</td>\n      <td>GDP per capita (current US$)</td>\n      <td>NY.GDP.PCAP.CD</td>\n      <td>2003</td>\n      <td>557.897366</td>\n    </tr>\n    <tr>\n      <th>4</th>\n      <td>India</td>\n      <td>IND</td>\n      <td>GDP per capita (current US$)</td>\n      <td>NY.GDP.PCAP.CD</td>\n      <td>2004</td>\n      <td>640.600522</td>\n    </tr>\n    <tr>\n      <th>5</th>\n      <td>India</td>\n      <td>IND</td>\n      <td>GDP per capita (current US$)</td>\n      <td>NY.GDP.PCAP.CD</td>\n      <td>2005</td>\n      <td>729.000727</td>\n    </tr>\n    <tr>\n      <th>6</th>\n      <td>India</td>\n      <td>IND</td>\n      <td>GDP per capita (current US$)</td>\n      <td>NY.GDP.PCAP.CD</td>\n      <td>2006</td>\n      <td>816.733776</td>\n    </tr>\n    <tr>\n      <th>7</th>\n      <td>India</td>\n      <td>IND</td>\n      <td>GDP per capita (current US$)</td>\n      <td>NY.GDP.PCAP.CD</td>\n      <td>2007</td>\n      <td>1050.024801</td>\n    </tr>\n    <tr>\n      <th>8</th>\n      <td>India</td>\n      <td>IND</td>\n      <td>GDP per capita (current US$)</td>\n      <td>NY.GDP.PCAP.CD</td>\n      <td>2008</td>\n      <td>1022.577592</td>\n    </tr>\n    <tr>\n      <th>9</th>\n      <td>India</td>\n      <td>IND</td>\n      <td>GDP per capita (current US$)</td>\n      <td>NY.GDP.PCAP.CD</td>\n      <td>2009</td>\n      <td>1124.519446</td>\n    </tr>\n    <tr>\n      <th>10</th>\n      <td>India</td>\n      <td>IND</td>\n      <td>GDP per capita (current US$)</td>\n      <td>NY.GDP.PCAP.CD</td>\n      <td>2010</td>\n      <td>1387.880084</td>\n    </tr>\n    <tr>\n      <th>11</th>\n      <td>India</td>\n      <td>IND</td>\n      <td>GDP per capita (current US$)</td>\n      <td>NY.GDP.PCAP.CD</td>\n      <td>2011</td>\n      <td>1471.658439</td>\n    </tr>\n    <tr>\n      <th>12</th>\n      <td>India</td>\n      <td>IND</td>\n      <td>GDP per capita (current US$)</td>\n      <td>NY.GDP.PCAP.CD</td>\n      <td>2012</td>\n      <td>1449.664875</td>\n    </tr>\n    <tr>\n      <th>13</th>\n      <td>India</td>\n      <td>IND</td>\n      <td>GDP per capita (current US$)</td>\n      <td>NY.GDP.PCAP.CD</td>\n      <td>2013</td>\n      <td>1455.102191</td>\n    </tr>\n    <tr>\n      <th>14</th>\n      <td>India</td>\n      <td>IND</td>\n      <td>GDP per capita (current US$)</td>\n      <td>NY.GDP.PCAP.CD</td>\n      <td>2014</td>\n      <td>1581.510703</td>\n    </tr>\n  </tbody>\n</table>\n</div>"
     },
     "execution_count": 14,
     "metadata": {},
     "output_type": "execute_result"
    }
   ],
   "source": [
    "pd.read_sql(\"\"\" SELECT *\n",
    "                FROM Indicators\n",
    "                WHERE IndicatorName ='GDP per capita (current US$)'\n",
    "                AND CountryName = \"India\"\n",
    "                AND Year>=2000;\"\"\",\n",
    "           conn)"
   ],
   "metadata": {
    "collapsed": false,
    "ExecuteTime": {
     "end_time": "2023-09-08T17:39:47.631602700Z",
     "start_time": "2023-09-08T17:39:47.531071500Z"
    }
   },
   "id": "380d69b65878719b"
  },
  {
   "cell_type": "code",
   "execution_count": 15,
   "outputs": [
    {
     "data": {
      "text/plain": "      CountryName CountryCode                 IndicatorName   IndicatorCode  \\\n0  United Kingdom         GBR  GDP per capita (current US$)  NY.GDP.PCAP.CD   \n1  United Kingdom         GBR  GDP per capita (current US$)  NY.GDP.PCAP.CD   \n2  United Kingdom         GBR  GDP per capita (current US$)  NY.GDP.PCAP.CD   \n3  United Kingdom         GBR  GDP per capita (current US$)  NY.GDP.PCAP.CD   \n4  United Kingdom         GBR  GDP per capita (current US$)  NY.GDP.PCAP.CD   \n5  United Kingdom         GBR  GDP per capita (current US$)  NY.GDP.PCAP.CD   \n6  United Kingdom         GBR  GDP per capita (current US$)  NY.GDP.PCAP.CD   \n7  United Kingdom         GBR  GDP per capita (current US$)  NY.GDP.PCAP.CD   \n8  United Kingdom         GBR  GDP per capita (current US$)  NY.GDP.PCAP.CD   \n9  United Kingdom         GBR  GDP per capita (current US$)  NY.GDP.PCAP.CD   \n\n   Year         Value  \n0  2005  40047.905967  \n1  2006  42534.306261  \n2  2007  48428.157453  \n3  2008  45195.156927  \n4  2009  37166.275965  \n5  2010  38292.871131  \n6  2011  41020.376964  \n7  2012  41294.514801  \n8  2013  42309.039922  \n9  2014  46331.977410  ",
      "text/html": "<div>\n<style scoped>\n    .dataframe tbody tr th:only-of-type {\n        vertical-align: middle;\n    }\n\n    .dataframe tbody tr th {\n        vertical-align: top;\n    }\n\n    .dataframe thead th {\n        text-align: right;\n    }\n</style>\n<table border=\"1\" class=\"dataframe\">\n  <thead>\n    <tr style=\"text-align: right;\">\n      <th></th>\n      <th>CountryName</th>\n      <th>CountryCode</th>\n      <th>IndicatorName</th>\n      <th>IndicatorCode</th>\n      <th>Year</th>\n      <th>Value</th>\n    </tr>\n  </thead>\n  <tbody>\n    <tr>\n      <th>0</th>\n      <td>United Kingdom</td>\n      <td>GBR</td>\n      <td>GDP per capita (current US$)</td>\n      <td>NY.GDP.PCAP.CD</td>\n      <td>2005</td>\n      <td>40047.905967</td>\n    </tr>\n    <tr>\n      <th>1</th>\n      <td>United Kingdom</td>\n      <td>GBR</td>\n      <td>GDP per capita (current US$)</td>\n      <td>NY.GDP.PCAP.CD</td>\n      <td>2006</td>\n      <td>42534.306261</td>\n    </tr>\n    <tr>\n      <th>2</th>\n      <td>United Kingdom</td>\n      <td>GBR</td>\n      <td>GDP per capita (current US$)</td>\n      <td>NY.GDP.PCAP.CD</td>\n      <td>2007</td>\n      <td>48428.157453</td>\n    </tr>\n    <tr>\n      <th>3</th>\n      <td>United Kingdom</td>\n      <td>GBR</td>\n      <td>GDP per capita (current US$)</td>\n      <td>NY.GDP.PCAP.CD</td>\n      <td>2008</td>\n      <td>45195.156927</td>\n    </tr>\n    <tr>\n      <th>4</th>\n      <td>United Kingdom</td>\n      <td>GBR</td>\n      <td>GDP per capita (current US$)</td>\n      <td>NY.GDP.PCAP.CD</td>\n      <td>2009</td>\n      <td>37166.275965</td>\n    </tr>\n    <tr>\n      <th>5</th>\n      <td>United Kingdom</td>\n      <td>GBR</td>\n      <td>GDP per capita (current US$)</td>\n      <td>NY.GDP.PCAP.CD</td>\n      <td>2010</td>\n      <td>38292.871131</td>\n    </tr>\n    <tr>\n      <th>6</th>\n      <td>United Kingdom</td>\n      <td>GBR</td>\n      <td>GDP per capita (current US$)</td>\n      <td>NY.GDP.PCAP.CD</td>\n      <td>2011</td>\n      <td>41020.376964</td>\n    </tr>\n    <tr>\n      <th>7</th>\n      <td>United Kingdom</td>\n      <td>GBR</td>\n      <td>GDP per capita (current US$)</td>\n      <td>NY.GDP.PCAP.CD</td>\n      <td>2012</td>\n      <td>41294.514801</td>\n    </tr>\n    <tr>\n      <th>8</th>\n      <td>United Kingdom</td>\n      <td>GBR</td>\n      <td>GDP per capita (current US$)</td>\n      <td>NY.GDP.PCAP.CD</td>\n      <td>2013</td>\n      <td>42309.039922</td>\n    </tr>\n    <tr>\n      <th>9</th>\n      <td>United Kingdom</td>\n      <td>GBR</td>\n      <td>GDP per capita (current US$)</td>\n      <td>NY.GDP.PCAP.CD</td>\n      <td>2014</td>\n      <td>46331.977410</td>\n    </tr>\n  </tbody>\n</table>\n</div>"
     },
     "execution_count": 15,
     "metadata": {},
     "output_type": "execute_result"
    }
   ],
   "source": [
    "pd.read_sql(\"\"\" SELECT *\n",
    "                FROM Indicators\n",
    "                WHERE IndicatorName ='GDP per capita (current US$)'\n",
    "                AND CountryName = \"United Kingdom\"\n",
    "                AND Year>=2005;\"\"\",\n",
    "           conn)"
   ],
   "metadata": {
    "collapsed": false,
    "ExecuteTime": {
     "end_time": "2023-09-08T17:39:47.726031300Z",
     "start_time": "2023-09-08T17:39:47.620603900Z"
    }
   },
   "id": "c6baf2a1164fa8dc"
  },
  {
   "cell_type": "code",
   "execution_count": 16,
   "outputs": [
    {
     "data": {
      "text/plain": "       CountryName                 IndicatorName         Value\n0            India  GDP per capita (current US$)    452.413585\n1   United Kingdom  GDP per capita (current US$)  26400.656438\n2            India  GDP per capita (current US$)    460.826200\n3   United Kingdom  GDP per capita (current US$)  25980.220379\n4            India  GDP per capita (current US$)    480.621442\n5   United Kingdom  GDP per capita (current US$)  28301.208332\n6            India  GDP per capita (current US$)    557.897366\n7   United Kingdom  GDP per capita (current US$)  32575.091963\n8            India  GDP per capita (current US$)    640.600522\n9   United Kingdom  GDP per capita (current US$)  38305.872686\n10           India  GDP per capita (current US$)    729.000727\n11  United Kingdom  GDP per capita (current US$)  40047.905967\n12           India  GDP per capita (current US$)    816.733776\n13  United Kingdom  GDP per capita (current US$)  42534.306261\n14           India  GDP per capita (current US$)   1050.024801\n15  United Kingdom  GDP per capita (current US$)  48428.157453\n16           India  GDP per capita (current US$)   1022.577592\n17  United Kingdom  GDP per capita (current US$)  45195.156927\n18           India  GDP per capita (current US$)   1124.519446\n19  United Kingdom  GDP per capita (current US$)  37166.275965\n20           India  GDP per capita (current US$)   1387.880084\n21  United Kingdom  GDP per capita (current US$)  38292.871131\n22           India  GDP per capita (current US$)   1471.658439\n23  United Kingdom  GDP per capita (current US$)  41020.376964\n24           India  GDP per capita (current US$)   1449.664875\n25  United Kingdom  GDP per capita (current US$)  41294.514801\n26           India  GDP per capita (current US$)   1455.102191\n27  United Kingdom  GDP per capita (current US$)  42309.039922\n28           India  GDP per capita (current US$)   1581.510703\n29  United Kingdom  GDP per capita (current US$)  46331.977410",
      "text/html": "<div>\n<style scoped>\n    .dataframe tbody tr th:only-of-type {\n        vertical-align: middle;\n    }\n\n    .dataframe tbody tr th {\n        vertical-align: top;\n    }\n\n    .dataframe thead th {\n        text-align: right;\n    }\n</style>\n<table border=\"1\" class=\"dataframe\">\n  <thead>\n    <tr style=\"text-align: right;\">\n      <th></th>\n      <th>CountryName</th>\n      <th>IndicatorName</th>\n      <th>Value</th>\n    </tr>\n  </thead>\n  <tbody>\n    <tr>\n      <th>0</th>\n      <td>India</td>\n      <td>GDP per capita (current US$)</td>\n      <td>452.413585</td>\n    </tr>\n    <tr>\n      <th>1</th>\n      <td>United Kingdom</td>\n      <td>GDP per capita (current US$)</td>\n      <td>26400.656438</td>\n    </tr>\n    <tr>\n      <th>2</th>\n      <td>India</td>\n      <td>GDP per capita (current US$)</td>\n      <td>460.826200</td>\n    </tr>\n    <tr>\n      <th>3</th>\n      <td>United Kingdom</td>\n      <td>GDP per capita (current US$)</td>\n      <td>25980.220379</td>\n    </tr>\n    <tr>\n      <th>4</th>\n      <td>India</td>\n      <td>GDP per capita (current US$)</td>\n      <td>480.621442</td>\n    </tr>\n    <tr>\n      <th>5</th>\n      <td>United Kingdom</td>\n      <td>GDP per capita (current US$)</td>\n      <td>28301.208332</td>\n    </tr>\n    <tr>\n      <th>6</th>\n      <td>India</td>\n      <td>GDP per capita (current US$)</td>\n      <td>557.897366</td>\n    </tr>\n    <tr>\n      <th>7</th>\n      <td>United Kingdom</td>\n      <td>GDP per capita (current US$)</td>\n      <td>32575.091963</td>\n    </tr>\n    <tr>\n      <th>8</th>\n      <td>India</td>\n      <td>GDP per capita (current US$)</td>\n      <td>640.600522</td>\n    </tr>\n    <tr>\n      <th>9</th>\n      <td>United Kingdom</td>\n      <td>GDP per capita (current US$)</td>\n      <td>38305.872686</td>\n    </tr>\n    <tr>\n      <th>10</th>\n      <td>India</td>\n      <td>GDP per capita (current US$)</td>\n      <td>729.000727</td>\n    </tr>\n    <tr>\n      <th>11</th>\n      <td>United Kingdom</td>\n      <td>GDP per capita (current US$)</td>\n      <td>40047.905967</td>\n    </tr>\n    <tr>\n      <th>12</th>\n      <td>India</td>\n      <td>GDP per capita (current US$)</td>\n      <td>816.733776</td>\n    </tr>\n    <tr>\n      <th>13</th>\n      <td>United Kingdom</td>\n      <td>GDP per capita (current US$)</td>\n      <td>42534.306261</td>\n    </tr>\n    <tr>\n      <th>14</th>\n      <td>India</td>\n      <td>GDP per capita (current US$)</td>\n      <td>1050.024801</td>\n    </tr>\n    <tr>\n      <th>15</th>\n      <td>United Kingdom</td>\n      <td>GDP per capita (current US$)</td>\n      <td>48428.157453</td>\n    </tr>\n    <tr>\n      <th>16</th>\n      <td>India</td>\n      <td>GDP per capita (current US$)</td>\n      <td>1022.577592</td>\n    </tr>\n    <tr>\n      <th>17</th>\n      <td>United Kingdom</td>\n      <td>GDP per capita (current US$)</td>\n      <td>45195.156927</td>\n    </tr>\n    <tr>\n      <th>18</th>\n      <td>India</td>\n      <td>GDP per capita (current US$)</td>\n      <td>1124.519446</td>\n    </tr>\n    <tr>\n      <th>19</th>\n      <td>United Kingdom</td>\n      <td>GDP per capita (current US$)</td>\n      <td>37166.275965</td>\n    </tr>\n    <tr>\n      <th>20</th>\n      <td>India</td>\n      <td>GDP per capita (current US$)</td>\n      <td>1387.880084</td>\n    </tr>\n    <tr>\n      <th>21</th>\n      <td>United Kingdom</td>\n      <td>GDP per capita (current US$)</td>\n      <td>38292.871131</td>\n    </tr>\n    <tr>\n      <th>22</th>\n      <td>India</td>\n      <td>GDP per capita (current US$)</td>\n      <td>1471.658439</td>\n    </tr>\n    <tr>\n      <th>23</th>\n      <td>United Kingdom</td>\n      <td>GDP per capita (current US$)</td>\n      <td>41020.376964</td>\n    </tr>\n    <tr>\n      <th>24</th>\n      <td>India</td>\n      <td>GDP per capita (current US$)</td>\n      <td>1449.664875</td>\n    </tr>\n    <tr>\n      <th>25</th>\n      <td>United Kingdom</td>\n      <td>GDP per capita (current US$)</td>\n      <td>41294.514801</td>\n    </tr>\n    <tr>\n      <th>26</th>\n      <td>India</td>\n      <td>GDP per capita (current US$)</td>\n      <td>1455.102191</td>\n    </tr>\n    <tr>\n      <th>27</th>\n      <td>United Kingdom</td>\n      <td>GDP per capita (current US$)</td>\n      <td>42309.039922</td>\n    </tr>\n    <tr>\n      <th>28</th>\n      <td>India</td>\n      <td>GDP per capita (current US$)</td>\n      <td>1581.510703</td>\n    </tr>\n    <tr>\n      <th>29</th>\n      <td>United Kingdom</td>\n      <td>GDP per capita (current US$)</td>\n      <td>46331.977410</td>\n    </tr>\n  </tbody>\n</table>\n</div>"
     },
     "execution_count": 16,
     "metadata": {},
     "output_type": "execute_result"
    }
   ],
   "source": [
    "pd.read_sql(\"\"\"SELECT CountryName, IndicatorName, Value\n",
    "               FROM Indicators\n",
    "               WHERE IndicatorName='GDP per capita (current US$)'\n",
    "               AND (CountryName= 'India' OR CountryName= 'United Kingdom')\n",
    "               AND Year>=2000;\"\"\",\n",
    "           conn)"
   ],
   "metadata": {
    "collapsed": false,
    "ExecuteTime": {
     "end_time": "2023-09-08T17:39:47.854045300Z",
     "start_time": "2023-09-08T17:39:47.672028600Z"
    }
   },
   "id": "c24dd637c2c98e85"
  },
  {
   "cell_type": "code",
   "execution_count": 17,
   "outputs": [
    {
     "data": {
      "text/plain": "      CountryName CountryCode                 IndicatorName   IndicatorCode  \\\n0   United States         USA  GDP per capita (current US$)  NY.GDP.PCAP.CD   \n1   United States         USA  GDP per capita (current US$)  NY.GDP.PCAP.CD   \n2   United States         USA  GDP per capita (current US$)  NY.GDP.PCAP.CD   \n3   United States         USA  GDP per capita (current US$)  NY.GDP.PCAP.CD   \n4   United States         USA  GDP per capita (current US$)  NY.GDP.PCAP.CD   \n5   United States         USA  GDP per capita (current US$)  NY.GDP.PCAP.CD   \n6   United States         USA  GDP per capita (current US$)  NY.GDP.PCAP.CD   \n7   United States         USA  GDP per capita (current US$)  NY.GDP.PCAP.CD   \n8   United States         USA  GDP per capita (current US$)  NY.GDP.PCAP.CD   \n9   United States         USA  GDP per capita (current US$)  NY.GDP.PCAP.CD   \n10  United States         USA  GDP per capita (current US$)  NY.GDP.PCAP.CD   \n\n    Year         Value  \n0   2000  36449.855116  \n1   2001  37273.618103  \n2   2002  38166.037841  \n3   2003  39677.198348  \n4   2004  41921.809762  \n5   2005  44307.920585  \n6   2006  46437.067117  \n7   2007  48061.537661  \n8   2008  48401.427340  \n9   2009  47001.555350  \n10  2010  48374.056457  ",
      "text/html": "<div>\n<style scoped>\n    .dataframe tbody tr th:only-of-type {\n        vertical-align: middle;\n    }\n\n    .dataframe tbody tr th {\n        vertical-align: top;\n    }\n\n    .dataframe thead th {\n        text-align: right;\n    }\n</style>\n<table border=\"1\" class=\"dataframe\">\n  <thead>\n    <tr style=\"text-align: right;\">\n      <th></th>\n      <th>CountryName</th>\n      <th>CountryCode</th>\n      <th>IndicatorName</th>\n      <th>IndicatorCode</th>\n      <th>Year</th>\n      <th>Value</th>\n    </tr>\n  </thead>\n  <tbody>\n    <tr>\n      <th>0</th>\n      <td>United States</td>\n      <td>USA</td>\n      <td>GDP per capita (current US$)</td>\n      <td>NY.GDP.PCAP.CD</td>\n      <td>2000</td>\n      <td>36449.855116</td>\n    </tr>\n    <tr>\n      <th>1</th>\n      <td>United States</td>\n      <td>USA</td>\n      <td>GDP per capita (current US$)</td>\n      <td>NY.GDP.PCAP.CD</td>\n      <td>2001</td>\n      <td>37273.618103</td>\n    </tr>\n    <tr>\n      <th>2</th>\n      <td>United States</td>\n      <td>USA</td>\n      <td>GDP per capita (current US$)</td>\n      <td>NY.GDP.PCAP.CD</td>\n      <td>2002</td>\n      <td>38166.037841</td>\n    </tr>\n    <tr>\n      <th>3</th>\n      <td>United States</td>\n      <td>USA</td>\n      <td>GDP per capita (current US$)</td>\n      <td>NY.GDP.PCAP.CD</td>\n      <td>2003</td>\n      <td>39677.198348</td>\n    </tr>\n    <tr>\n      <th>4</th>\n      <td>United States</td>\n      <td>USA</td>\n      <td>GDP per capita (current US$)</td>\n      <td>NY.GDP.PCAP.CD</td>\n      <td>2004</td>\n      <td>41921.809762</td>\n    </tr>\n    <tr>\n      <th>5</th>\n      <td>United States</td>\n      <td>USA</td>\n      <td>GDP per capita (current US$)</td>\n      <td>NY.GDP.PCAP.CD</td>\n      <td>2005</td>\n      <td>44307.920585</td>\n    </tr>\n    <tr>\n      <th>6</th>\n      <td>United States</td>\n      <td>USA</td>\n      <td>GDP per capita (current US$)</td>\n      <td>NY.GDP.PCAP.CD</td>\n      <td>2006</td>\n      <td>46437.067117</td>\n    </tr>\n    <tr>\n      <th>7</th>\n      <td>United States</td>\n      <td>USA</td>\n      <td>GDP per capita (current US$)</td>\n      <td>NY.GDP.PCAP.CD</td>\n      <td>2007</td>\n      <td>48061.537661</td>\n    </tr>\n    <tr>\n      <th>8</th>\n      <td>United States</td>\n      <td>USA</td>\n      <td>GDP per capita (current US$)</td>\n      <td>NY.GDP.PCAP.CD</td>\n      <td>2008</td>\n      <td>48401.427340</td>\n    </tr>\n    <tr>\n      <th>9</th>\n      <td>United States</td>\n      <td>USA</td>\n      <td>GDP per capita (current US$)</td>\n      <td>NY.GDP.PCAP.CD</td>\n      <td>2009</td>\n      <td>47001.555350</td>\n    </tr>\n    <tr>\n      <th>10</th>\n      <td>United States</td>\n      <td>USA</td>\n      <td>GDP per capita (current US$)</td>\n      <td>NY.GDP.PCAP.CD</td>\n      <td>2010</td>\n      <td>48374.056457</td>\n    </tr>\n  </tbody>\n</table>\n</div>"
     },
     "execution_count": 17,
     "metadata": {},
     "output_type": "execute_result"
    }
   ],
   "source": [
    "# Turkey in 2000's\n",
    "pd.read_sql(\"\"\"SELECT * \n",
    "               FROM Indicators\n",
    "               WHERE IndicatorName='GDP per capita (current US$)'\n",
    "               AND CountryName='United States'\n",
    "               AND Year BETWEEN 2000 AND 2010;\"\"\",\n",
    "           conn)"
   ],
   "metadata": {
    "collapsed": false,
    "ExecuteTime": {
     "end_time": "2023-09-08T17:39:47.893317600Z",
     "start_time": "2023-09-08T17:39:47.750392100Z"
    }
   },
   "id": "2ccf557577c87812"
  },
  {
   "cell_type": "code",
   "execution_count": 18,
   "outputs": [
    {
     "data": {
      "text/plain": "  CountryName    MAX (Value)\n0      Monaco  152877.365748",
      "text/html": "<div>\n<style scoped>\n    .dataframe tbody tr th:only-of-type {\n        vertical-align: middle;\n    }\n\n    .dataframe tbody tr th {\n        vertical-align: top;\n    }\n\n    .dataframe thead th {\n        text-align: right;\n    }\n</style>\n<table border=\"1\" class=\"dataframe\">\n  <thead>\n    <tr style=\"text-align: right;\">\n      <th></th>\n      <th>CountryName</th>\n      <th>MAX (Value)</th>\n    </tr>\n  </thead>\n  <tbody>\n    <tr>\n      <th>0</th>\n      <td>Monaco</td>\n      <td>152877.365748</td>\n    </tr>\n  </tbody>\n</table>\n</div>"
     },
     "execution_count": 18,
     "metadata": {},
     "output_type": "execute_result"
    }
   ],
   "source": [
    "#highest GDP per capita in 2009\n",
    "pd.read_sql(\"\"\"SELECT CountryName, MAX (Value)\n",
    "               FROM Indicators\n",
    "               WHERE IndicatorName = 'GDP per capita (current US$)'\n",
    "               AND Year = 2009;\"\"\",\n",
    "            conn)"
   ],
   "metadata": {
    "collapsed": false,
    "ExecuteTime": {
     "end_time": "2023-09-08T17:39:48.070965600Z",
     "start_time": "2023-09-08T17:39:47.828037400Z"
    }
   },
   "id": "32e9ba2bad619c89"
  },
  {
   "cell_type": "code",
   "execution_count": 19,
   "outputs": [
    {
     "data": {
      "text/plain": "        CountryName CountryCode                 IndicatorName   IndicatorCode  \\\n0        Luxembourg         LUX  GDP per capita (current US$)  NY.GDP.PCAP.CD   \n1            Norway         NOR  GDP per capita (current US$)  NY.GDP.PCAP.CD   \n2             Qatar         QAT  GDP per capita (current US$)  NY.GDP.PCAP.CD   \n3  Macao SAR, China         MAC  GDP per capita (current US$)  NY.GDP.PCAP.CD   \n4       Switzerland         CHE  GDP per capita (current US$)  NY.GDP.PCAP.CD   \n5         Australia         AUS  GDP per capita (current US$)  NY.GDP.PCAP.CD   \n6           Denmark         DNK  GDP per capita (current US$)  NY.GDP.PCAP.CD   \n7            Sweden         SWE  GDP per capita (current US$)  NY.GDP.PCAP.CD   \n8         Singapore         SGP  GDP per capita (current US$)  NY.GDP.PCAP.CD   \n9     United States         USA  GDP per capita (current US$)  NY.GDP.PCAP.CD   \n\n   Year          Value  \n0  2014  116664.262488  \n1  2014   97307.421592  \n2  2014   96732.402545  \n3  2014   96038.050724  \n4  2014   85594.326601  \n5  2014   61925.496062  \n6  2014   60707.249365  \n7  2014   58938.772748  \n8  2014   56284.578405  \n9  2014   54629.495168  ",
      "text/html": "<div>\n<style scoped>\n    .dataframe tbody tr th:only-of-type {\n        vertical-align: middle;\n    }\n\n    .dataframe tbody tr th {\n        vertical-align: top;\n    }\n\n    .dataframe thead th {\n        text-align: right;\n    }\n</style>\n<table border=\"1\" class=\"dataframe\">\n  <thead>\n    <tr style=\"text-align: right;\">\n      <th></th>\n      <th>CountryName</th>\n      <th>CountryCode</th>\n      <th>IndicatorName</th>\n      <th>IndicatorCode</th>\n      <th>Year</th>\n      <th>Value</th>\n    </tr>\n  </thead>\n  <tbody>\n    <tr>\n      <th>0</th>\n      <td>Luxembourg</td>\n      <td>LUX</td>\n      <td>GDP per capita (current US$)</td>\n      <td>NY.GDP.PCAP.CD</td>\n      <td>2014</td>\n      <td>116664.262488</td>\n    </tr>\n    <tr>\n      <th>1</th>\n      <td>Norway</td>\n      <td>NOR</td>\n      <td>GDP per capita (current US$)</td>\n      <td>NY.GDP.PCAP.CD</td>\n      <td>2014</td>\n      <td>97307.421592</td>\n    </tr>\n    <tr>\n      <th>2</th>\n      <td>Qatar</td>\n      <td>QAT</td>\n      <td>GDP per capita (current US$)</td>\n      <td>NY.GDP.PCAP.CD</td>\n      <td>2014</td>\n      <td>96732.402545</td>\n    </tr>\n    <tr>\n      <th>3</th>\n      <td>Macao SAR, China</td>\n      <td>MAC</td>\n      <td>GDP per capita (current US$)</td>\n      <td>NY.GDP.PCAP.CD</td>\n      <td>2014</td>\n      <td>96038.050724</td>\n    </tr>\n    <tr>\n      <th>4</th>\n      <td>Switzerland</td>\n      <td>CHE</td>\n      <td>GDP per capita (current US$)</td>\n      <td>NY.GDP.PCAP.CD</td>\n      <td>2014</td>\n      <td>85594.326601</td>\n    </tr>\n    <tr>\n      <th>5</th>\n      <td>Australia</td>\n      <td>AUS</td>\n      <td>GDP per capita (current US$)</td>\n      <td>NY.GDP.PCAP.CD</td>\n      <td>2014</td>\n      <td>61925.496062</td>\n    </tr>\n    <tr>\n      <th>6</th>\n      <td>Denmark</td>\n      <td>DNK</td>\n      <td>GDP per capita (current US$)</td>\n      <td>NY.GDP.PCAP.CD</td>\n      <td>2014</td>\n      <td>60707.249365</td>\n    </tr>\n    <tr>\n      <th>7</th>\n      <td>Sweden</td>\n      <td>SWE</td>\n      <td>GDP per capita (current US$)</td>\n      <td>NY.GDP.PCAP.CD</td>\n      <td>2014</td>\n      <td>58938.772748</td>\n    </tr>\n    <tr>\n      <th>8</th>\n      <td>Singapore</td>\n      <td>SGP</td>\n      <td>GDP per capita (current US$)</td>\n      <td>NY.GDP.PCAP.CD</td>\n      <td>2014</td>\n      <td>56284.578405</td>\n    </tr>\n    <tr>\n      <th>9</th>\n      <td>United States</td>\n      <td>USA</td>\n      <td>GDP per capita (current US$)</td>\n      <td>NY.GDP.PCAP.CD</td>\n      <td>2014</td>\n      <td>54629.495168</td>\n    </tr>\n  </tbody>\n</table>\n</div>"
     },
     "execution_count": 19,
     "metadata": {},
     "output_type": "execute_result"
    }
   ],
   "source": [
    "#highest first 10 countries GDP per capita in 2014\n",
    "pd.read_sql(\"\"\"SELECT * \n",
    "               FROM Indicators\n",
    "               WHERE IndicatorName='GDP per capita (current US$)'\n",
    "               AND Year= 2014\n",
    "               ORDER BY Value DESC\n",
    "               LIMIT 10;\"\"\",\n",
    "           conn)"
   ],
   "metadata": {
    "collapsed": false,
    "ExecuteTime": {
     "end_time": "2023-09-08T17:39:48.071923900Z",
     "start_time": "2023-09-08T17:39:47.907318500Z"
    }
   },
   "id": "adf30693be57f81e"
  },
  {
   "cell_type": "code",
   "execution_count": 20,
   "outputs": [
    {
     "data": {
      "text/plain": "  CountryName  MIN (Value)\n0      Malawi   239.869731",
      "text/html": "<div>\n<style scoped>\n    .dataframe tbody tr th:only-of-type {\n        vertical-align: middle;\n    }\n\n    .dataframe tbody tr th {\n        vertical-align: top;\n    }\n\n    .dataframe thead th {\n        text-align: right;\n    }\n</style>\n<table border=\"1\" class=\"dataframe\">\n  <thead>\n    <tr style=\"text-align: right;\">\n      <th></th>\n      <th>CountryName</th>\n      <th>MIN (Value)</th>\n    </tr>\n  </thead>\n  <tbody>\n    <tr>\n      <th>0</th>\n      <td>Malawi</td>\n      <td>239.869731</td>\n    </tr>\n  </tbody>\n</table>\n</div>"
     },
     "execution_count": 20,
     "metadata": {},
     "output_type": "execute_result"
    }
   ],
   "source": [
    "#The lowest GDP per capita in 2013\n",
    "pd.read_sql(\"\"\"SELECT CountryName, MIN (Value)\n",
    "               FROM Indicators\n",
    "               WHERE IndicatorName = 'GDP per capita (current US$)'\n",
    "               AND Year = 2013;\"\"\",\n",
    "            conn)"
   ],
   "metadata": {
    "collapsed": false,
    "ExecuteTime": {
     "end_time": "2023-09-08T17:39:48.143924Z",
     "start_time": "2023-09-08T17:39:47.953579200Z"
    }
   },
   "id": "19cbfdb750e13e1d"
  },
  {
   "cell_type": "code",
   "execution_count": 21,
   "outputs": [
    {
     "data": {
      "text/plain": "     CountryName     AVG(Value)\n0         Brazil   12015.088601\n1          China    6605.175319\n2          India    1489.484052\n3         Norway  100569.625056\n4  United States   52211.888753",
      "text/html": "<div>\n<style scoped>\n    .dataframe tbody tr th:only-of-type {\n        vertical-align: middle;\n    }\n\n    .dataframe tbody tr th {\n        vertical-align: top;\n    }\n\n    .dataframe thead th {\n        text-align: right;\n    }\n</style>\n<table border=\"1\" class=\"dataframe\">\n  <thead>\n    <tr style=\"text-align: right;\">\n      <th></th>\n      <th>CountryName</th>\n      <th>AVG(Value)</th>\n    </tr>\n  </thead>\n  <tbody>\n    <tr>\n      <th>0</th>\n      <td>Brazil</td>\n      <td>12015.088601</td>\n    </tr>\n    <tr>\n      <th>1</th>\n      <td>China</td>\n      <td>6605.175319</td>\n    </tr>\n    <tr>\n      <th>2</th>\n      <td>India</td>\n      <td>1489.484052</td>\n    </tr>\n    <tr>\n      <th>3</th>\n      <td>Norway</td>\n      <td>100569.625056</td>\n    </tr>\n    <tr>\n      <th>4</th>\n      <td>United States</td>\n      <td>52211.888753</td>\n    </tr>\n  </tbody>\n</table>\n</div>"
     },
     "execution_count": 21,
     "metadata": {},
     "output_type": "execute_result"
    }
   ],
   "source": [
    "#the averages\n",
    "pd.read_sql(\"\"\" SELECT CountryName, AVG(Value)\n",
    "                FROM Indicators\n",
    "                WHERE IndicatorName= 'GDP per capita (current US$)'\n",
    "                AND CountryName IN ('United States', 'China', 'India', 'Russia', \"Norway\", \"Brazil\")\n",
    "                AND Year>2010\n",
    "                GROUP BY CountryName;\"\"\",\n",
    "           conn)"
   ],
   "metadata": {
    "collapsed": false,
    "ExecuteTime": {
     "end_time": "2023-09-08T17:39:48.216544900Z",
     "start_time": "2023-09-08T17:39:48.018234300Z"
    }
   },
   "id": "bac7262d6ca9808d"
  },
  {
   "cell_type": "code",
   "execution_count": 22,
   "outputs": [
    {
     "data": {
      "text/plain": "          CountryName  MAX(Value)\n0             Bolivia   67.913439\n1               China   75.353024\n2               India   67.660415\n3             Nigeria   52.442146\n4              Norway   81.451220\n5  Russian Federation   71.073171\n6              Turkey   75.175951\n7       United States   78.841463",
      "text/html": "<div>\n<style scoped>\n    .dataframe tbody tr th:only-of-type {\n        vertical-align: middle;\n    }\n\n    .dataframe tbody tr th {\n        vertical-align: top;\n    }\n\n    .dataframe thead th {\n        text-align: right;\n    }\n</style>\n<table border=\"1\" class=\"dataframe\">\n  <thead>\n    <tr style=\"text-align: right;\">\n      <th></th>\n      <th>CountryName</th>\n      <th>MAX(Value)</th>\n    </tr>\n  </thead>\n  <tbody>\n    <tr>\n      <th>0</th>\n      <td>Bolivia</td>\n      <td>67.913439</td>\n    </tr>\n    <tr>\n      <th>1</th>\n      <td>China</td>\n      <td>75.353024</td>\n    </tr>\n    <tr>\n      <th>2</th>\n      <td>India</td>\n      <td>67.660415</td>\n    </tr>\n    <tr>\n      <th>3</th>\n      <td>Nigeria</td>\n      <td>52.442146</td>\n    </tr>\n    <tr>\n      <th>4</th>\n      <td>Norway</td>\n      <td>81.451220</td>\n    </tr>\n    <tr>\n      <th>5</th>\n      <td>Russian Federation</td>\n      <td>71.073171</td>\n    </tr>\n    <tr>\n      <th>6</th>\n      <td>Turkey</td>\n      <td>75.175951</td>\n    </tr>\n    <tr>\n      <th>7</th>\n      <td>United States</td>\n      <td>78.841463</td>\n    </tr>\n  </tbody>\n</table>\n</div>"
     },
     "execution_count": 22,
     "metadata": {},
     "output_type": "execute_result"
    }
   ],
   "source": [
    "#Comparing Life expectancy at birth max values from 2012 inclusive\n",
    "pd.read_sql(\"\"\" SELECT CountryName, MAX(Value)\n",
    "                FROM Indicators\n",
    "                WHERE IndicatorName= 'Life expectancy at birth, total (years)'\n",
    "                AND CountryName IN (\"China\", \"Norway\", 'Russian Federation', 'Bolivia',\n",
    "                'United States', \"Turkey\", 'Nigeria', 'India')\n",
    "                AND Year>=2012\n",
    "                GROUP BY CountryName;\"\"\",\n",
    "           conn)"
   ],
   "metadata": {
    "collapsed": false,
    "ExecuteTime": {
     "end_time": "2023-09-08T17:39:48.342019300Z",
     "start_time": "2023-09-08T17:39:48.080921800Z"
    }
   },
   "id": "32a6faedfd0a3887"
  },
  {
   "cell_type": "code",
   "execution_count": 23,
   "outputs": [
    {
     "data": {
      "text/plain": "  CountryCode                                      IndicatorName  Year  \\\n0         WLD  CO2 emissions from transport (% of total fuel ...  2012   \n1         WLD  CO2 emissions from residential buildings and c...  2012   \n2         WLD  CO2 emissions from other sectors, excluding re...  2012   \n3         WLD  CO2 emissions from manufacturing industries an...  2012   \n4         WLD  CO2 emissions from electricity and heat produc...  2012   \n5         WLD  CO2 intensity (kg per kg of oil equivalent ene...  2011   \n6         WLD  CO2 emissions from transport (% of total fuel ...  2011   \n7         WLD     CO2 emissions from solid fuel consumption (kt)  2011   \n8         WLD  CO2 emissions from solid fuel consumption (% o...  2011   \n9         WLD  CO2 emissions from residential buildings and c...  2011   \n\n          Value                                         Definition  \n0  1.987419e+01  CO2 emissions from transport contains emission...  \n1  8.516604e+00  CO2 emissions from residential buildings and c...  \n2  1.877231e+00  CO2 emissions from other sectors, less residen...  \n3  2.107766e+01  CO2 emissions from manufacturing industries an...  \n4  4.865408e+01  CO2 emissions from electricity and heat produc...  \n5  2.596009e+00  Carbon dioxide emissions from solid fuel consu...  \n6  1.972732e+01  CO2 emissions from transport contains emission...  \n7  6.453920e+06  Carbon dioxide emissions from solid fuel consu...  \n8  1.862631e+01  Carbon dioxide emissions from solid fuel consu...  \n9  8.692554e+00  CO2 emissions from residential buildings and c...  ",
      "text/html": "<div>\n<style scoped>\n    .dataframe tbody tr th:only-of-type {\n        vertical-align: middle;\n    }\n\n    .dataframe tbody tr th {\n        vertical-align: top;\n    }\n\n    .dataframe thead th {\n        text-align: right;\n    }\n</style>\n<table border=\"1\" class=\"dataframe\">\n  <thead>\n    <tr style=\"text-align: right;\">\n      <th></th>\n      <th>CountryCode</th>\n      <th>IndicatorName</th>\n      <th>Year</th>\n      <th>Value</th>\n      <th>Definition</th>\n    </tr>\n  </thead>\n  <tbody>\n    <tr>\n      <th>0</th>\n      <td>WLD</td>\n      <td>CO2 emissions from transport (% of total fuel ...</td>\n      <td>2012</td>\n      <td>1.987419e+01</td>\n      <td>CO2 emissions from transport contains emission...</td>\n    </tr>\n    <tr>\n      <th>1</th>\n      <td>WLD</td>\n      <td>CO2 emissions from residential buildings and c...</td>\n      <td>2012</td>\n      <td>8.516604e+00</td>\n      <td>CO2 emissions from residential buildings and c...</td>\n    </tr>\n    <tr>\n      <th>2</th>\n      <td>WLD</td>\n      <td>CO2 emissions from other sectors, excluding re...</td>\n      <td>2012</td>\n      <td>1.877231e+00</td>\n      <td>CO2 emissions from other sectors, less residen...</td>\n    </tr>\n    <tr>\n      <th>3</th>\n      <td>WLD</td>\n      <td>CO2 emissions from manufacturing industries an...</td>\n      <td>2012</td>\n      <td>2.107766e+01</td>\n      <td>CO2 emissions from manufacturing industries an...</td>\n    </tr>\n    <tr>\n      <th>4</th>\n      <td>WLD</td>\n      <td>CO2 emissions from electricity and heat produc...</td>\n      <td>2012</td>\n      <td>4.865408e+01</td>\n      <td>CO2 emissions from electricity and heat produc...</td>\n    </tr>\n    <tr>\n      <th>5</th>\n      <td>WLD</td>\n      <td>CO2 intensity (kg per kg of oil equivalent ene...</td>\n      <td>2011</td>\n      <td>2.596009e+00</td>\n      <td>Carbon dioxide emissions from solid fuel consu...</td>\n    </tr>\n    <tr>\n      <th>6</th>\n      <td>WLD</td>\n      <td>CO2 emissions from transport (% of total fuel ...</td>\n      <td>2011</td>\n      <td>1.972732e+01</td>\n      <td>CO2 emissions from transport contains emission...</td>\n    </tr>\n    <tr>\n      <th>7</th>\n      <td>WLD</td>\n      <td>CO2 emissions from solid fuel consumption (kt)</td>\n      <td>2011</td>\n      <td>6.453920e+06</td>\n      <td>Carbon dioxide emissions from solid fuel consu...</td>\n    </tr>\n    <tr>\n      <th>8</th>\n      <td>WLD</td>\n      <td>CO2 emissions from solid fuel consumption (% o...</td>\n      <td>2011</td>\n      <td>1.862631e+01</td>\n      <td>Carbon dioxide emissions from solid fuel consu...</td>\n    </tr>\n    <tr>\n      <th>9</th>\n      <td>WLD</td>\n      <td>CO2 emissions from residential buildings and c...</td>\n      <td>2011</td>\n      <td>8.692554e+00</td>\n      <td>CO2 emissions from residential buildings and c...</td>\n    </tr>\n  </tbody>\n</table>\n</div>"
     },
     "execution_count": 23,
     "metadata": {},
     "output_type": "execute_result"
    }
   ],
   "source": [
    "#CO2 emissions in the world\n",
    "pd.read_sql(\"\"\" SELECT Indicators.CountryCode, Indicators.IndicatorName,Indicators.Year,Indicators.Value, Series.LongDefinition As Definition\n",
    "                FROM Indicators\n",
    "                LEFT JOIN Series \n",
    "                ON Indicators.IndicatorName  = Series.IndicatorName\n",
    "                WHERE Indicators.IndicatorName LIKE 'CO2%'\n",
    "                AND CountryName ='World'\n",
    "                ORDER BY Year DESC\n",
    "                LIMIT 10;\"\"\",\n",
    "            conn)"
   ],
   "metadata": {
    "collapsed": false,
    "ExecuteTime": {
     "end_time": "2023-09-08T17:39:48.622040600Z",
     "start_time": "2023-09-08T17:39:48.156940700Z"
    }
   },
   "id": "d8179ba3b4c7754a"
  }
 ],
 "metadata": {
  "kernelspec": {
   "display_name": "Python 3",
   "language": "python",
   "name": "python3"
  },
  "language_info": {
   "codemirror_mode": {
    "name": "ipython",
    "version": 2
   },
   "file_extension": ".py",
   "mimetype": "text/x-python",
   "name": "python",
   "nbconvert_exporter": "python",
   "pygments_lexer": "ipython2",
   "version": "2.7.6"
  }
 },
 "nbformat": 4,
 "nbformat_minor": 5
}
